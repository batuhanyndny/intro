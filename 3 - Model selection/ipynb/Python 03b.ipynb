{
  "nbformat": 4,
  "nbformat_minor": 0,
  "metadata": {
    "colab": {
      "name": "03.ipynb",
      "version": "0.3.2",
      "provenance": [],
      "collapsed_sections": [
        "Nt6dXjF4sciv",
        "_m-o9FRVscjd",
        "byJUAIghscjj",
        "WmE5OCg4scj6"
      ]
    },
    "kernelspec": {
      "display_name": "Python 3",
      "language": "python",
      "name": "python3"
    }
  },
  "cells": [
    {
      "metadata": {
        "colab_type": "text",
        "id": "bp_RsQTaMlvG"
      },
      "cell_type": "markdown",
      "source": [
        "<small><small><i>\n",
        "All of these python notebooks are available at [https://gitlab.erc.monash.edu.au/andrease/Python4Maths.git]\n",
        "</i></small></small>"
      ]
    },
    {
      "metadata": {
        "id": "Nt6dXjF4sciv",
        "colab_type": "text"
      },
      "cell_type": "markdown",
      "source": [
        "### Copying a list"
      ]
    },
    {
      "metadata": {
        "id": "luBZosFGsciv",
        "colab_type": "text"
      },
      "cell_type": "markdown",
      "source": [
        "Assignment of a list does not imply copying. It simply creates a second reference to the same list. Most of new python programmers get caught out by this initially. Consider the following,"
      ]
    },
    {
      "metadata": {
        "id": "ceYY9OXfsciv",
        "colab_type": "code",
        "colab": {
          "base_uri": "https://localhost:8080/",
          "height": 34
        },
        "outputId": "b1444135-f36c-4dde-aeec-b7a0e1ac1834"
      },
      "cell_type": "code",
      "source": [
        "lista= [2,1,4,3]\n",
        "listb = lista\n",
        "print(listb)"
      ],
      "execution_count": 5,
      "outputs": [
        {
          "output_type": "stream",
          "text": [
            "[2, 1, 4, 3]\n"
          ],
          "name": "stdout"
        }
      ]
    },
    {
      "metadata": {
        "id": "RG5hrNVasciz",
        "colab_type": "text"
      },
      "cell_type": "markdown",
      "source": [
        "Here, We have declared a list, lista = [2,1,4,3]. This list is copied to listb by assigning it's value and it get's copied as seen. Now we perform some random operations on lista."
      ]
    },
    {
      "metadata": {
        "id": "ZYTWpoEBsciz",
        "colab_type": "code",
        "colab": {
          "base_uri": "https://localhost:8080/",
          "height": 51
        },
        "outputId": "8c62f304-6136-4e7f-cd9f-414389dc1447"
      },
      "cell_type": "code",
      "source": [
        "lista.sort()\n",
        "lista.pop()\n",
        "lista.append(9)\n",
        "print(\"A =\",lista)\n",
        "print(\"B =\",listb)"
      ],
      "execution_count": 7,
      "outputs": [
        {
          "output_type": "stream",
          "text": [
            "A = [1, 2, 3, 9]\n",
            "B = [1, 2, 3, 9]\n"
          ],
          "name": "stdout"
        }
      ]
    },
    {
      "metadata": {
        "id": "e2PSTtSqM9UL",
        "colab_type": "code",
        "colab": {
          "base_uri": "https://localhost:8080/",
          "height": 34
        },
        "outputId": "fccb9f67-ccfc-4b65-a62c-ec9f7884935d"
      },
      "cell_type": "code",
      "source": [
        "lista is listb"
      ],
      "execution_count": 8,
      "outputs": [
        {
          "output_type": "execute_result",
          "data": {
            "text/plain": [
              "True"
            ]
          },
          "metadata": {
            "tags": []
          },
          "execution_count": 8
        }
      ]
    },
    {
      "metadata": {
        "id": "kGnri8bMsci2",
        "colab_type": "text"
      },
      "cell_type": "markdown",
      "source": [
        "listb has also changed though no operation has been performed on it. This is because you have assigned the same memory space of lista to listb. So how do fix this?\n",
        "\n",
        "If you recall, in slicing we had seen that parentlist[a:b] returns a list from parent list with start index a and end index b and if a and b is not mentioned then by default it considers the first and last element. We use the same concept here. By doing so, we are assigning the data of lista to listb as a variable."
      ]
    },
    {
      "metadata": {
        "id": "yB0LqZBZsci3",
        "colab_type": "code",
        "colab": {
          "base_uri": "https://localhost:8080/",
          "height": 85
        },
        "outputId": "b202e373-15e3-4aa6-ceb6-2f85cacc7427"
      },
      "cell_type": "code",
      "source": [
        "lista = [2,1,4,3]\n",
        "listb = lista[:] # make a copy by taking a slice from beginning to end\n",
        "print(\"Starting with:\")\n",
        "print(\"A =\",lista)\n",
        "print(\"B =\",listb)\n",
        "print(\"lista is listb\", lista is listb)"
      ],
      "execution_count": 11,
      "outputs": [
        {
          "output_type": "stream",
          "text": [
            "Starting with:\n",
            "A = [2, 1, 4, 3]\n",
            "B = [2, 1, 4, 3]\n",
            "lista is listb False\n"
          ],
          "name": "stdout"
        }
      ]
    },
    {
      "metadata": {
        "id": "39y0GTMWNQ0v",
        "colab_type": "code",
        "colab": {}
      },
      "cell_type": "code",
      "source": [
        "lista.sort()\n",
        "lista.pop()\n",
        "lista.append(9)\n",
        "print(\"Finnished with:\")\n",
        "print(\"A =\",lista)\n",
        "print(\"B =\",listb)"
      ],
      "execution_count": 0,
      "outputs": []
    },
    {
      "metadata": {
        "id": "eD2VA1fbsci4",
        "colab_type": "text"
      },
      "cell_type": "markdown",
      "source": [
        "## List comprehension\n",
        "A very powerful concept in Python (that also applies to Tuples, sets and dictionaries as we will see below), is the ability to define lists using list comprehension (looping) expression. For example:"
      ]
    },
    {
      "metadata": {
        "id": "nNT5abI5sci5",
        "colab_type": "code",
        "colab": {
          "base_uri": "https://localhost:8080/",
          "height": 34
        },
        "outputId": "9d348576-96a1-41d5-ba23-7edd29e8d8ed"
      },
      "cell_type": "code",
      "source": [
        "[i**2 for i in [1,2,3]]"
      ],
      "execution_count": 12,
      "outputs": [
        {
          "output_type": "execute_result",
          "data": {
            "text/plain": [
              "[1, 4, 9]"
            ]
          },
          "metadata": {
            "tags": []
          },
          "execution_count": 12
        }
      ]
    },
    {
      "metadata": {
        "id": "9ugiqZYUsci-",
        "colab_type": "text"
      },
      "cell_type": "markdown",
      "source": [
        "As can be seen this constructs a new list by taking each element of the original `[1,2,3]` and squaring it. We can have multiple such implied loops to get for example:"
      ]
    },
    {
      "metadata": {
        "id": "6-mWHNthsci_",
        "colab_type": "code",
        "colab": {
          "base_uri": "https://localhost:8080/",
          "height": 34
        },
        "outputId": "58facdda-033c-444e-917e-8faada3fd5d1"
      },
      "cell_type": "code",
      "source": [
        "[10*i+j for i in [1,2,3] for j in [5,7]]"
      ],
      "execution_count": 13,
      "outputs": [
        {
          "output_type": "execute_result",
          "data": {
            "text/plain": [
              "[15, 17, 25, 27, 35, 37]"
            ]
          },
          "metadata": {
            "tags": []
          },
          "execution_count": 13
        }
      ]
    },
    {
      "metadata": {
        "id": "jB_5biddscjB",
        "colab_type": "text"
      },
      "cell_type": "markdown",
      "source": [
        "Finally the looping can be filtered using an **if** expression with the **for** - **in** construct."
      ]
    },
    {
      "metadata": {
        "id": "5RuOTTqFscjB",
        "colab_type": "code",
        "colab": {
          "base_uri": "https://localhost:8080/",
          "height": 34
        },
        "outputId": "2a271cba-1ac6-43a2-ee03-ad5ca2ad7b8b"
      },
      "cell_type": "code",
      "source": [
        "[10*i+j for i in [1,2,3] if i%2==1 for j in [4,5,7] if j >= i+4] # keep odd i and  j larger than i+3 only"
      ],
      "execution_count": 14,
      "outputs": [
        {
          "output_type": "execute_result",
          "data": {
            "text/plain": [
              "[15, 17, 37]"
            ]
          },
          "metadata": {
            "tags": []
          },
          "execution_count": 14
        }
      ]
    },
    {
      "metadata": {
        "colab_type": "text",
        "id": "wudPdfuLN0L7"
      },
      "cell_type": "markdown",
      "source": [
        "## Sets"
      ]
    },
    {
      "metadata": {
        "colab_type": "text",
        "id": "qCOSvr9IN0I9"
      },
      "cell_type": "markdown",
      "source": [
        "Sets are mainly used to eliminate repeated numbers in a sequence/list. It is also used to perform some standard set operations.\n",
        "\n",
        "Sets are declared as set() which will initialize a empty set. Also `set([sequence])` can be executed to declare a set with elements"
      ]
    },
    {
      "metadata": {
        "colab_type": "code",
        "id": "2xKx9vagN0E7",
        "colab": {}
      },
      "cell_type": "code",
      "source": [
        "set1 = set()\n",
        "print(type(set1))"
      ],
      "execution_count": 0,
      "outputs": []
    },
    {
      "metadata": {
        "colab_type": "code",
        "id": "Jya358pZN0BP",
        "colab": {}
      },
      "cell_type": "code",
      "source": [
        "set0 = set([1,2,2,3,3,4])\n",
        "set0 = {1,2,2,3,3,4} # equivalent to the above\n",
        "print(set0)"
      ],
      "execution_count": 0,
      "outputs": []
    },
    {
      "metadata": {
        "colab_type": "text",
        "id": "G0uPr0CiNz9f"
      },
      "cell_type": "markdown",
      "source": [
        "elements 2,3 which are repeated twice are seen only once. Thus in a set each element is distinct.\n",
        "\n",
        "However be warned that **{}** is **NOT** a set, but a dictionary (see next chapter of this tutorial)"
      ]
    },
    {
      "metadata": {
        "colab_type": "code",
        "id": "Bri2c4IiNz0i",
        "colab": {}
      },
      "cell_type": "code",
      "source": [
        "type({})"
      ],
      "execution_count": 0,
      "outputs": []
    },
    {
      "metadata": {
        "id": "WmE5OCg4scj6",
        "colab_type": "text"
      },
      "cell_type": "markdown",
      "source": [
        "### Built-in Functions"
      ]
    },
    {
      "metadata": {
        "id": "dR0DuQ5Zscj7",
        "colab_type": "code",
        "colab": {}
      },
      "cell_type": "code",
      "source": [
        "set1 = set([1,2,3])"
      ],
      "execution_count": 0,
      "outputs": []
    },
    {
      "metadata": {
        "id": "JN3fvuVLsckA",
        "colab_type": "code",
        "colab": {}
      },
      "cell_type": "code",
      "source": [
        "set2 = set([2,3,4,5])"
      ],
      "execution_count": 0,
      "outputs": []
    },
    {
      "metadata": {
        "id": "CjdXeUr3sckD",
        "colab_type": "text"
      },
      "cell_type": "markdown",
      "source": [
        "**union( )** function returns a set which contains all the elements of both the sets without repition."
      ]
    },
    {
      "metadata": {
        "id": "kypfV5K5sckD",
        "colab_type": "code",
        "colab": {}
      },
      "cell_type": "code",
      "source": [
        "set1.union(set2)"
      ],
      "execution_count": 0,
      "outputs": []
    },
    {
      "metadata": {
        "id": "NEaCbCigsckH",
        "colab_type": "text"
      },
      "cell_type": "markdown",
      "source": [
        "**add( )** will add a particular element into the set. Note that the index of the newly added element is arbitrary and can be placed anywhere not neccessarily in the end."
      ]
    },
    {
      "metadata": {
        "id": "TypC070RsckI",
        "colab_type": "code",
        "colab": {}
      },
      "cell_type": "code",
      "source": [
        "set1.add(0)\n",
        "set1"
      ],
      "execution_count": 0,
      "outputs": []
    },
    {
      "metadata": {
        "id": "3eiBLHfAsckM",
        "colab_type": "text"
      },
      "cell_type": "markdown",
      "source": [
        "**intersection( )** function outputs a set which contains all the elements that are in both sets."
      ]
    },
    {
      "metadata": {
        "id": "1uMmzyNasckN",
        "colab_type": "code",
        "colab": {}
      },
      "cell_type": "code",
      "source": [
        "set1.intersection(set2)"
      ],
      "execution_count": 0,
      "outputs": []
    },
    {
      "metadata": {
        "id": "EFcxEBKksckO",
        "colab_type": "text"
      },
      "cell_type": "markdown",
      "source": [
        "**difference( )** function ouptuts a set which contains elements that are in set1 and not in set2."
      ]
    },
    {
      "metadata": {
        "id": "Io3gxnntsckP",
        "colab_type": "code",
        "colab": {}
      },
      "cell_type": "code",
      "source": [
        "set1.difference(set2)"
      ],
      "execution_count": 0,
      "outputs": []
    },
    {
      "metadata": {
        "id": "-4Eafc4usckQ",
        "colab_type": "text"
      },
      "cell_type": "markdown",
      "source": [
        "**symmetric_difference( )** function ouputs a function which contains elements that are in one of the sets."
      ]
    },
    {
      "metadata": {
        "id": "TK9iQWztsckR",
        "colab_type": "code",
        "colab": {}
      },
      "cell_type": "code",
      "source": [
        "set2.symmetric_difference(set1)"
      ],
      "execution_count": 0,
      "outputs": []
    },
    {
      "metadata": {
        "id": "G2FfivarsckS",
        "colab_type": "text"
      },
      "cell_type": "markdown",
      "source": [
        "**issubset( ), isdisjoint( ), issuperset( )** is used to check if the set1/set2 is a subset, disjoint or superset of set2/set1 respectively."
      ]
    },
    {
      "metadata": {
        "id": "qDZijzoesckS",
        "colab_type": "code",
        "colab": {}
      },
      "cell_type": "code",
      "source": [
        "set1.issubset(set2)"
      ],
      "execution_count": 0,
      "outputs": []
    },
    {
      "metadata": {
        "id": "MT7dSSMXsckX",
        "colab_type": "code",
        "colab": {}
      },
      "cell_type": "code",
      "source": [
        "set2.isdisjoint(set1)"
      ],
      "execution_count": 0,
      "outputs": []
    },
    {
      "metadata": {
        "id": "w21067bvsckY",
        "colab_type": "code",
        "colab": {}
      },
      "cell_type": "code",
      "source": [
        "set2.issuperset(set1)"
      ],
      "execution_count": 0,
      "outputs": []
    },
    {
      "metadata": {
        "id": "2AAXXqLhsckZ",
        "colab_type": "text"
      },
      "cell_type": "markdown",
      "source": [
        "**pop( )** is used to remove an arbitrary element in the set"
      ]
    },
    {
      "metadata": {
        "id": "eAFnI8pnscka",
        "colab_type": "code",
        "colab": {}
      },
      "cell_type": "code",
      "source": [
        "set1.pop()\n",
        "print(set1)"
      ],
      "execution_count": 0,
      "outputs": []
    },
    {
      "metadata": {
        "id": "cF9VQPe7sckc",
        "colab_type": "text"
      },
      "cell_type": "markdown",
      "source": [
        "**remove( )** function deletes the specified element from the set."
      ]
    },
    {
      "metadata": {
        "id": "buMZUFF-sckc",
        "colab_type": "code",
        "colab": {}
      },
      "cell_type": "code",
      "source": [
        "set1.remove(2)\n",
        "set1"
      ],
      "execution_count": 0,
      "outputs": []
    },
    {
      "metadata": {
        "id": "5ZeRJ915scke",
        "colab_type": "text"
      },
      "cell_type": "markdown",
      "source": [
        "**clear( )** is used to clear all the elements and make that set an empty set."
      ]
    },
    {
      "metadata": {
        "id": "T1hB-Sviscke",
        "colab_type": "code",
        "colab": {}
      },
      "cell_type": "code",
      "source": [
        "set1.clear()\n",
        "set1"
      ],
      "execution_count": 0,
      "outputs": []
    }
  ]
}
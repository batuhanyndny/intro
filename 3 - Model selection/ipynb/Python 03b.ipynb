{
  "nbformat": 4,
  "nbformat_minor": 0,
  "metadata": {
    "colab": {
      "name": "03.ipynb",
      "version": "0.3.2",
      "provenance": [],
      "collapsed_sections": [
        "Nt6dXjF4sciv",
        "_m-o9FRVscjd",
        "byJUAIghscjj",
        "WmE5OCg4scj6"
      ]
    },
    "kernelspec": {
      "display_name": "Python 3",
      "language": "python",
      "name": "python3"
    }
  },
  "cells": [
    {
      "metadata": {
        "id": "IrzgsnfgscfG",
        "colab_type": "text"
      },
      "cell_type": "markdown",
      "source": [
        "<small><small><i>\n",
        "All of these python notebooks are available at [https://gitlab.erc.monash.edu.au/andrease/Python4Maths.git]\n",
        "</i></small></small>"
      ]
    },
    {
      "metadata": {
        "id": "1uDCIfMGscfJ",
        "colab_type": "text"
      },
      "cell_type": "markdown",
      "source": [
        "# Data Structures"
      ]
    },
    {
      "metadata": {
        "id": "gnKR6-sLscfM",
        "colab_type": "text"
      },
      "cell_type": "markdown",
      "source": [
        "In simple terms, It is the the collection or group of data in a particular structure."
      ]
    },
    {
      "metadata": {
        "id": "PxHrQbKiscfP",
        "colab_type": "text"
      },
      "cell_type": "markdown",
      "source": [
        "## Lists"
      ]
    },
    {
      "metadata": {
        "id": "ktBnHwPqscfS",
        "colab_type": "text"
      },
      "cell_type": "markdown",
      "source": [
        "Lists are a sequence of data that is enclosed in square brackets and data are separated by a comma. Each of these data can be accessed by calling it's index value.\n",
        "\n",
        "Lists are declared by just equating a variable to '[ ]' or list."
      ]
    },
    {
      "metadata": {
        "id": "qm59uu4_scfW",
        "colab_type": "code",
        "colab": {}
      },
      "cell_type": "code",
      "source": [
        "a = []"
      ],
      "execution_count": 0,
      "outputs": []
    },
    {
      "metadata": {
        "id": "LiRO4Hxvscfd",
        "colab_type": "code",
        "colab": {
          "base_uri": "https://localhost:8080/",
          "height": 34
        },
        "outputId": "1780cb32-1658-4499-fd2e-d0be8934c02c"
      },
      "cell_type": "code",
      "source": [
        "type(a)"
      ],
      "execution_count": 2,
      "outputs": [
        {
          "output_type": "execute_result",
          "data": {
            "text/plain": [
              "list"
            ]
          },
          "metadata": {
            "tags": []
          },
          "execution_count": 2
        }
      ]
    },
    {
      "metadata": {
        "id": "V2u6yZWFscfm",
        "colab_type": "text"
      },
      "cell_type": "markdown",
      "source": [
        "One can directly assign the sequence of data to a list x as shown."
      ]
    },
    {
      "metadata": {
        "id": "_CM55kiMscfo",
        "colab_type": "code",
        "colab": {}
      },
      "cell_type": "code",
      "source": [
        "x = ['apple', 'orange']"
      ],
      "execution_count": 0,
      "outputs": []
    },
    {
      "metadata": {
        "id": "OCJmwzyrscft",
        "colab_type": "text"
      },
      "cell_type": "markdown",
      "source": [
        "### Indexing"
      ]
    },
    {
      "metadata": {
        "id": "cF_cD-CSscfx",
        "colab_type": "text"
      },
      "cell_type": "markdown",
      "source": [
        "In python, indexing starts from 0. Thus now the list x, which has two elements will have apple at 0 index and orange at 1 index. "
      ]
    },
    {
      "metadata": {
        "id": "CFFI1IVyscfz",
        "colab_type": "code",
        "colab": {}
      },
      "cell_type": "code",
      "source": [
        "x[0]"
      ],
      "execution_count": 0,
      "outputs": []
    },
    {
      "metadata": {
        "id": "_M0c1cl8scf6",
        "colab_type": "text"
      },
      "cell_type": "markdown",
      "source": [
        "Indexing can also be done in reverse order. That is the last element can be accessed first. Here, indexing starts from -1. Thus index value -1 will be orange and index -2 will be apple."
      ]
    },
    {
      "metadata": {
        "id": "tFZAXl36scf7",
        "colab_type": "code",
        "colab": {}
      },
      "cell_type": "code",
      "source": [
        "x[-1]"
      ],
      "execution_count": 0,
      "outputs": []
    },
    {
      "metadata": {
        "id": "r9BwmuLgscgB",
        "colab_type": "text"
      },
      "cell_type": "markdown",
      "source": [
        "As you might have already guessed, x[0] = x[-2], x[1] = x[-1]. This concept can be extended towards lists with more many elements."
      ]
    },
    {
      "metadata": {
        "id": "0w4HElQbscgC",
        "colab_type": "code",
        "colab": {}
      },
      "cell_type": "code",
      "source": [
        "y = ['carrot','potato']"
      ],
      "execution_count": 0,
      "outputs": []
    },
    {
      "metadata": {
        "id": "hPAw6T1_scgF",
        "colab_type": "text"
      },
      "cell_type": "markdown",
      "source": [
        "Two lists can again be put into another list say z which will have it's data as two lists. This list inside a list is called as nested lists and is how an array would be declared which we will see later."
      ]
    },
    {
      "metadata": {
        "id": "eTQvxt5GscgG",
        "colab_type": "code",
        "colab": {}
      },
      "cell_type": "code",
      "source": [
        "z  = [x,y]\n",
        "print( z )"
      ],
      "execution_count": 0,
      "outputs": []
    },
    {
      "metadata": {
        "id": "OpEfB70sscgK",
        "colab_type": "text"
      },
      "cell_type": "markdown",
      "source": [
        "Indexing in nested lists can be quite confusing if you do not understand how indexing works in python. So let us break it down and then arrive at a conclusion.\n",
        "\n",
        "Let us access the data 'apple' in the above nested list.\n",
        "First, at index 0 there is a list ['apple','orange'] and at index 1 there is another list ['carrot','potato']. Hence z[0] should give us the first list which contains 'apple' and 'orange'. From this list we can take the second element (index 1) to get 'orange'"
      ]
    },
    {
      "metadata": {
        "id": "rBpaBCPyscgL",
        "colab_type": "code",
        "colab": {}
      },
      "cell_type": "code",
      "source": [
        "print(z[0][1])"
      ],
      "execution_count": 0,
      "outputs": []
    },
    {
      "metadata": {
        "id": "dRJFwUpIscgQ",
        "colab_type": "text"
      },
      "cell_type": "markdown",
      "source": [
        "Lists do not have to be homogenous. Each element can be of a different type:"
      ]
    },
    {
      "metadata": {
        "id": "qb6VM5RbscgR",
        "colab_type": "code",
        "colab": {}
      },
      "cell_type": "code",
      "source": [
        "[\"this is a valid list\",2,3.6,(1+2j),[\"a\",\"sublist\"]]"
      ],
      "execution_count": 0,
      "outputs": []
    },
    {
      "metadata": {
        "id": "8lrSksR3scgW",
        "colab_type": "text"
      },
      "cell_type": "markdown",
      "source": [
        "### Slicing"
      ]
    },
    {
      "metadata": {
        "id": "k0OO6pryscgX",
        "colab_type": "text"
      },
      "cell_type": "markdown",
      "source": [
        "Indexing was only limited to accessing a single element, Slicing on the other hand is accessing a sequence of data inside the list. In other words \"slicing\" the list.\n",
        "\n",
        "Slicing is done by defining the index values of the first element and the last element from the parent list that is required in the sliced list. It is written as parentlist[ a : b ] where a,b are the index values from the parent list. If a or b is not defined then the index value is considered to be the first value for a if a is not defined and the last value for b when b is not defined."
      ]
    },
    {
      "metadata": {
        "id": "nuGY94tvscgZ",
        "colab_type": "code",
        "colab": {}
      },
      "cell_type": "code",
      "source": [
        "num = [0,1,2,3,4,5,6,7,8,9]\n",
        "print(num[0:4])\n",
        "print(num[4:])"
      ],
      "execution_count": 0,
      "outputs": []
    },
    {
      "metadata": {
        "id": "GfYI9wbJscgi",
        "colab_type": "text"
      },
      "cell_type": "markdown",
      "source": [
        "You can also slice a parent list with a fixed length or step length."
      ]
    },
    {
      "metadata": {
        "id": "5JujAvsJscgj",
        "colab_type": "code",
        "colab": {}
      },
      "cell_type": "code",
      "source": [
        "num[:9:3]"
      ],
      "execution_count": 0,
      "outputs": []
    },
    {
      "metadata": {
        "id": "oTJuEL6Cscgp",
        "colab_type": "text"
      },
      "cell_type": "markdown",
      "source": [
        "### Built in List Functions"
      ]
    },
    {
      "metadata": {
        "id": "4L0endlFscgq",
        "colab_type": "text"
      },
      "cell_type": "markdown",
      "source": [
        "To find the length of the list or the number of elements in a list, **len( )** is used."
      ]
    },
    {
      "metadata": {
        "id": "R639YbWNscgs",
        "colab_type": "code",
        "colab": {}
      },
      "cell_type": "code",
      "source": [
        "len(num)"
      ],
      "execution_count": 0,
      "outputs": []
    },
    {
      "metadata": {
        "id": "PcOuX0JEscgy",
        "colab_type": "text"
      },
      "cell_type": "markdown",
      "source": [
        "If the list consists of all integer elements then **min( )** and **max( )** gives the minimum and maximum value in the list. Similarly **sum** is the sum"
      ]
    },
    {
      "metadata": {
        "id": "NlpOyukescg0",
        "colab_type": "code",
        "colab": {}
      },
      "cell_type": "code",
      "source": [
        "print(\"min =\",min(num),\"  max =\",max(num),\"  total =\",sum(num))"
      ],
      "execution_count": 0,
      "outputs": []
    },
    {
      "metadata": {
        "id": "BKU_pQhHscg3",
        "colab_type": "code",
        "colab": {}
      },
      "cell_type": "code",
      "source": [
        "max(num)"
      ],
      "execution_count": 0,
      "outputs": []
    },
    {
      "metadata": {
        "id": "yyss5vOMscg6",
        "colab_type": "text"
      },
      "cell_type": "markdown",
      "source": [
        "Lists can be concatenated by adding, '+' them. The resultant list will contain all the elements of the lists that were added. The resultant list will not be a nested list."
      ]
    },
    {
      "metadata": {
        "id": "CivO4Bplscg9",
        "colab_type": "code",
        "colab": {
          "base_uri": "https://localhost:8080/",
          "height": 34
        },
        "outputId": "cef9d873-b645-4849-8d85-c8626cd0dd00"
      },
      "cell_type": "code",
      "source": [
        "[1,2,3] + [5,4,7]"
      ],
      "execution_count": 4,
      "outputs": [
        {
          "output_type": "execute_result",
          "data": {
            "text/plain": [
              "[1, 2, 3, 5, 4, 7]"
            ]
          },
          "metadata": {
            "tags": []
          },
          "execution_count": 4
        }
      ]
    },
    {
      "metadata": {
        "id": "41IFs0lXschA",
        "colab_type": "text"
      },
      "cell_type": "markdown",
      "source": [
        "There might arise a requirement where you might need to check if a particular element is there in a predefined list. Consider the below list."
      ]
    },
    {
      "metadata": {
        "id": "GXnMlAFlschC",
        "colab_type": "code",
        "colab": {}
      },
      "cell_type": "code",
      "source": [
        "names = ['Earth','Air','Fire','Water']"
      ],
      "execution_count": 0,
      "outputs": []
    },
    {
      "metadata": {
        "id": "0u7Yk-GrschE",
        "colab_type": "text"
      },
      "cell_type": "markdown",
      "source": [
        "To check if 'Fire' and 'Rajath' is present in the list names. A conventional approach would be to use a for loop and iterate over the list and use the if condition. But in python you can use 'a in b' concept which would return 'True' if a is present in b and 'False' if not."
      ]
    },
    {
      "metadata": {
        "id": "C4kpuqOnschE",
        "colab_type": "code",
        "colab": {}
      },
      "cell_type": "code",
      "source": [
        "'Fire' in names"
      ],
      "execution_count": 0,
      "outputs": []
    },
    {
      "metadata": {
        "id": "Fp6tBTy1schI",
        "colab_type": "code",
        "colab": {}
      },
      "cell_type": "code",
      "source": [
        "'Space' in names"
      ],
      "execution_count": 0,
      "outputs": []
    },
    {
      "metadata": {
        "id": "RdY5tE1VschM",
        "colab_type": "text"
      },
      "cell_type": "markdown",
      "source": [
        "In a list with string elements, **max( )** and **min( )** are still applicable and return the first/last element in lexicographical order. "
      ]
    },
    {
      "metadata": {
        "id": "LNRzacVischM",
        "colab_type": "code",
        "colab": {}
      },
      "cell_type": "code",
      "source": [
        "mlist = ['bzaa','ds','nc','az','z','klm']\n",
        "print(\"max =\",max(mlist))\n",
        "print(\"min =\",min(mlist))"
      ],
      "execution_count": 0,
      "outputs": []
    },
    {
      "metadata": {
        "id": "JYqKBYM6schP",
        "colab_type": "text"
      },
      "cell_type": "markdown",
      "source": [
        "Here the first index of each element is considered and thus z has the highest ASCII value thus it is returned and minimum ASCII is a. But what if numbers are declared as strings?"
      ]
    },
    {
      "metadata": {
        "id": "0S9-EYU7schQ",
        "colab_type": "code",
        "colab": {}
      },
      "cell_type": "code",
      "source": [
        "nlist = ['1','94','93','1000']\n",
        "print(\"max =\",max(nlist))\n",
        "print('min =',min(nlist))"
      ],
      "execution_count": 0,
      "outputs": []
    },
    {
      "metadata": {
        "id": "0QbxpH7hschU",
        "colab_type": "text"
      },
      "cell_type": "markdown",
      "source": [
        "Even if the numbers are declared in a string the first index of each element is considered and the maximum and minimum values are returned accordingly."
      ]
    },
    {
      "metadata": {
        "id": "QGfyJBuDschV",
        "colab_type": "text"
      },
      "cell_type": "markdown",
      "source": [
        "But if you want to find the **max( )** string element based on the length of the string then another parameter `key` can be used to specify the function to use for generating the value on which to sort. Hence finding the longest and shortest string in `mlist` can be doen using the `len` function:"
      ]
    },
    {
      "metadata": {
        "id": "oc60aLlpschW",
        "colab_type": "code",
        "colab": {}
      },
      "cell_type": "code",
      "source": [
        "print('longest =',max(mlist, key=len))\n",
        "print('shortest =',min(mlist, key=len))"
      ],
      "execution_count": 0,
      "outputs": []
    },
    {
      "metadata": {
        "id": "Ho9Wjmd6scha",
        "colab_type": "text"
      },
      "cell_type": "markdown",
      "source": [
        "Any other built-in or user defined function can be used.\n",
        "\n",
        "A string can be converted into a list by using the **list()** function, or more usefully using the **split()** method, which breaks strings up based on spaces."
      ]
    },
    {
      "metadata": {
        "id": "0MqFF2Ujschb",
        "colab_type": "code",
        "colab": {}
      },
      "cell_type": "code",
      "source": [
        "print(list('hello world !'),'Hello   World !!'.split())"
      ],
      "execution_count": 0,
      "outputs": []
    },
    {
      "metadata": {
        "id": "sSKU0BBFsche",
        "colab_type": "text"
      },
      "cell_type": "markdown",
      "source": [
        "**append( )** is used to add a single element at the end of the list."
      ]
    },
    {
      "metadata": {
        "id": "8p8yk-Mpschf",
        "colab_type": "code",
        "colab": {}
      },
      "cell_type": "code",
      "source": [
        "lst = [1,1,4,8,7]\n",
        "lst.append(1)\n",
        "print(lst)"
      ],
      "execution_count": 0,
      "outputs": []
    },
    {
      "metadata": {
        "id": "sUh7F6BRschi",
        "colab_type": "text"
      },
      "cell_type": "markdown",
      "source": [
        "Appending a list to a list would create a sublist. If a nested list is not what is desired then the **extend( )** function can be used."
      ]
    },
    {
      "metadata": {
        "id": "JAEWXtGgschj",
        "colab_type": "code",
        "colab": {}
      },
      "cell_type": "code",
      "source": [
        "lst.extend([10,11,12])\n",
        "print(lst)"
      ],
      "execution_count": 0,
      "outputs": []
    },
    {
      "metadata": {
        "collapsed": false,
        "id": "6uzNedkKschm",
        "colab_type": "text"
      },
      "cell_type": "markdown",
      "source": [
        "**count( )** is used to count the number of a particular element that is present in the list. "
      ]
    },
    {
      "metadata": {
        "id": "YergzQslschn",
        "colab_type": "code",
        "colab": {}
      },
      "cell_type": "code",
      "source": [
        "lst.count(1)"
      ],
      "execution_count": 0,
      "outputs": []
    },
    {
      "metadata": {
        "id": "3JDVxyRtschr",
        "colab_type": "text"
      },
      "cell_type": "markdown",
      "source": [
        "**index( )** is used to find the index value of a particular element. Note that if there are multiple elements of the same value then the first index value of that element is returned."
      ]
    },
    {
      "metadata": {
        "id": "7f8179Eqschs",
        "colab_type": "code",
        "colab": {}
      },
      "cell_type": "code",
      "source": [
        "lst.index(1)"
      ],
      "execution_count": 0,
      "outputs": []
    },
    {
      "metadata": {
        "id": "p641AE4Xschz",
        "colab_type": "text"
      },
      "cell_type": "markdown",
      "source": [
        "**insert(x,y)** is used to insert a element y at a specified index value x. **append( )** function made it only possible to insert at the end. "
      ]
    },
    {
      "metadata": {
        "id": "UtNOxWxLsch0",
        "colab_type": "code",
        "colab": {}
      },
      "cell_type": "code",
      "source": [
        "lst.insert(5, 'name')\n",
        "print(lst)"
      ],
      "execution_count": 0,
      "outputs": []
    },
    {
      "metadata": {
        "id": "pw9PLsb7sch3",
        "colab_type": "text"
      },
      "cell_type": "markdown",
      "source": [
        "**insert(x,y)** inserts but does not replace element. If you want to replace the element with another element you simply assign the value to that particular index."
      ]
    },
    {
      "metadata": {
        "id": "yJ_hE_ZDsch4",
        "colab_type": "code",
        "colab": {}
      },
      "cell_type": "code",
      "source": [
        "lst[5] = 'Python'\n",
        "print(lst)"
      ],
      "execution_count": 0,
      "outputs": []
    },
    {
      "metadata": {
        "id": "Xpqg4iVgsch9",
        "colab_type": "text"
      },
      "cell_type": "markdown",
      "source": [
        "**pop( )** function return the last element in the list. This is similar to the operation of a stack. Hence it wouldn't be wrong to tell that lists can be used as a stack."
      ]
    },
    {
      "metadata": {
        "id": "UeRwxSRzsch_",
        "colab_type": "code",
        "colab": {}
      },
      "cell_type": "code",
      "source": [
        "lst.pop()"
      ],
      "execution_count": 0,
      "outputs": []
    },
    {
      "metadata": {
        "id": "W72ms8CGsciG",
        "colab_type": "text"
      },
      "cell_type": "markdown",
      "source": [
        "Index value can be specified to pop a ceratin element corresponding to that index value."
      ]
    },
    {
      "metadata": {
        "id": "1ZdGECK1sciH",
        "colab_type": "code",
        "colab": {}
      },
      "cell_type": "code",
      "source": [
        "lst.pop(0)"
      ],
      "execution_count": 0,
      "outputs": []
    },
    {
      "metadata": {
        "id": "Tq1Ak1K2sciK",
        "colab_type": "text"
      },
      "cell_type": "markdown",
      "source": [
        "**pop( )** is used to remove element based on it's index value which can be assigned to a variable. One can also remove element by specifying the element itself using the **remove( )** function."
      ]
    },
    {
      "metadata": {
        "id": "aeCgCx1msciM",
        "colab_type": "code",
        "colab": {}
      },
      "cell_type": "code",
      "source": [
        "lst.remove('Python')\n",
        "print(lst)"
      ],
      "execution_count": 0,
      "outputs": []
    },
    {
      "metadata": {
        "id": "AsAFNDF6sciQ",
        "colab_type": "text"
      },
      "cell_type": "markdown",
      "source": [
        "Alternative to **remove** function but with using index value is **del**"
      ]
    },
    {
      "metadata": {
        "id": "EG5yJgN7sciR",
        "colab_type": "code",
        "colab": {}
      },
      "cell_type": "code",
      "source": [
        "del lst[1]\n",
        "print(lst)"
      ],
      "execution_count": 0,
      "outputs": []
    },
    {
      "metadata": {
        "collapsed": false,
        "id": "K6YR1Y0usciW",
        "colab_type": "text"
      },
      "cell_type": "markdown",
      "source": [
        "The entire elements present in the list can be reversed by using the **reverse()** function."
      ]
    },
    {
      "metadata": {
        "id": "5o_HAKX3sciX",
        "colab_type": "code",
        "colab": {}
      },
      "cell_type": "code",
      "source": [
        "lst.reverse()\n",
        "print(lst)"
      ],
      "execution_count": 0,
      "outputs": []
    },
    {
      "metadata": {
        "id": "WH6NHAN-scic",
        "colab_type": "text"
      },
      "cell_type": "markdown",
      "source": [
        "Note that the nested list [5,4,2,8] is treated as a single element of the parent list lst. Thus the elements inside the nested list is not reversed.\n",
        "\n",
        "Python offers built in operation **sort( )** to arrange the elements in ascending order. Alternatively **sorted()** can be used to construct a copy of the list in sorted order"
      ]
    },
    {
      "metadata": {
        "id": "qbi3-NYIscie",
        "colab_type": "code",
        "colab": {}
      },
      "cell_type": "code",
      "source": [
        "lst.sort()\n",
        "print(lst)\n",
        "print(sorted([3,2,1])) # another way to sort"
      ],
      "execution_count": 0,
      "outputs": []
    },
    {
      "metadata": {
        "id": "OrWWH50Nscim",
        "colab_type": "text"
      },
      "cell_type": "markdown",
      "source": [
        "For descending order, By default the reverse condition will be False for reverse. Hence changing it to True would arrange the elements in descending order."
      ]
    },
    {
      "metadata": {
        "id": "ZU0NOwa9scin",
        "colab_type": "code",
        "colab": {}
      },
      "cell_type": "code",
      "source": [
        "lst.sort(reverse=True)\n",
        "print(lst)"
      ],
      "execution_count": 0,
      "outputs": []
    },
    {
      "metadata": {
        "id": "hnJa-Da3scio",
        "colab_type": "text"
      },
      "cell_type": "markdown",
      "source": [
        "Similarly for lists containing string elements, **sort( )** would sort the elements based on it's ASCII value in ascending and by specifying reverse=True in descending."
      ]
    },
    {
      "metadata": {
        "id": "w5yIwMlIscip",
        "colab_type": "code",
        "colab": {}
      },
      "cell_type": "code",
      "source": [
        "names.sort()\n",
        "print(names)\n",
        "names.sort(reverse=True)\n",
        "print(names)"
      ],
      "execution_count": 0,
      "outputs": []
    },
    {
      "metadata": {
        "id": "S4npT77Mscir",
        "colab_type": "text"
      },
      "cell_type": "markdown",
      "source": [
        "To sort based on length key=len should be specified as shown."
      ]
    },
    {
      "metadata": {
        "id": "VRrLiY4pscis",
        "colab_type": "code",
        "colab": {}
      },
      "cell_type": "code",
      "source": [
        "names.sort(key=len)\n",
        "print(names)\n",
        "print(sorted(names,key=len,reverse=True))"
      ],
      "execution_count": 0,
      "outputs": []
    },
    {
      "metadata": {
        "id": "Nt6dXjF4sciv",
        "colab_type": "text"
      },
      "cell_type": "markdown",
      "source": [
        "### Copying a list"
      ]
    },
    {
      "metadata": {
        "id": "luBZosFGsciv",
        "colab_type": "text"
      },
      "cell_type": "markdown",
      "source": [
        "Assignment of a list does not imply copying. It simply creates a second reference to the same list. Most of new python programmers get caught out by this initially. Consider the following,"
      ]
    },
    {
      "metadata": {
        "id": "ceYY9OXfsciv",
        "colab_type": "code",
        "colab": {}
      },
      "cell_type": "code",
      "source": [
        "lista= [2,1,4,3]\n",
        "listb = lista\n",
        "print(listb)"
      ],
      "execution_count": 0,
      "outputs": []
    },
    {
      "metadata": {
        "id": "RG5hrNVasciz",
        "colab_type": "text"
      },
      "cell_type": "markdown",
      "source": [
        "Here, We have declared a list, lista = [2,1,4,3]. This list is copied to listb by assigning it's value and it get's copied as seen. Now we perform some random operations on lista."
      ]
    },
    {
      "metadata": {
        "id": "ZYTWpoEBsciz",
        "colab_type": "code",
        "colab": {}
      },
      "cell_type": "code",
      "source": [
        "lista.sort()\n",
        "lista.pop()\n",
        "lista.append(9)\n",
        "print(\"A =\",lista)\n",
        "print(\"B =\",listb)"
      ],
      "execution_count": 0,
      "outputs": []
    },
    {
      "metadata": {
        "id": "kGnri8bMsci2",
        "colab_type": "text"
      },
      "cell_type": "markdown",
      "source": [
        "listb has also changed though no operation has been performed on it. This is because you have assigned the same memory space of lista to listb. So how do fix this?\n",
        "\n",
        "If you recall, in slicing we had seen that parentlist[a:b] returns a list from parent list with start index a and end index b and if a and b is not mentioned then by default it considers the first and last element. We use the same concept here. By doing so, we are assigning the data of lista to listb as a variable."
      ]
    },
    {
      "metadata": {
        "id": "yB0LqZBZsci3",
        "colab_type": "code",
        "colab": {}
      },
      "cell_type": "code",
      "source": [
        "lista = [2,1,4,3]\n",
        "listb = lista[:] # make a copy by taking a slice from beginning to end\n",
        "print(\"Starting with:\")\n",
        "print(\"A =\",lista)\n",
        "print(\"B =\",listb)\n",
        "lista.sort()\n",
        "lista.pop()\n",
        "lista.append(9)\n",
        "print(\"Finnished with:\")\n",
        "print(\"A =\",lista)\n",
        "print(\"B =\",listb)"
      ],
      "execution_count": 0,
      "outputs": []
    },
    {
      "metadata": {
        "id": "eD2VA1fbsci4",
        "colab_type": "text"
      },
      "cell_type": "markdown",
      "source": [
        "## List comprehension\n",
        "A very powerful concept in Python (that also applies to Tuples, sets and dictionaries as we will see below), is the ability to define lists using list comprehension (looping) expression. For example:"
      ]
    },
    {
      "metadata": {
        "id": "nNT5abI5sci5",
        "colab_type": "code",
        "colab": {}
      },
      "cell_type": "code",
      "source": [
        "[i**2 for i in [1,2,3]]"
      ],
      "execution_count": 0,
      "outputs": []
    },
    {
      "metadata": {
        "id": "9ugiqZYUsci-",
        "colab_type": "text"
      },
      "cell_type": "markdown",
      "source": [
        "As can be seen this constructs a new list by taking each element of the original `[1,2,3]` and squaring it. We can have multiple such implied loops to get for example:"
      ]
    },
    {
      "metadata": {
        "id": "6-mWHNthsci_",
        "colab_type": "code",
        "colab": {}
      },
      "cell_type": "code",
      "source": [
        "[10*i+j for i in [1,2,3] for j in [5,7]]"
      ],
      "execution_count": 0,
      "outputs": []
    },
    {
      "metadata": {
        "id": "jB_5biddscjB",
        "colab_type": "text"
      },
      "cell_type": "markdown",
      "source": [
        "Finally the looping can be filtered using an **if** expression with the **for** - **in** construct."
      ]
    },
    {
      "metadata": {
        "id": "5RuOTTqFscjB",
        "colab_type": "code",
        "colab": {}
      },
      "cell_type": "code",
      "source": [
        "[10*i+j for i in [1,2,3] if i%2==1 for j in [4,5,7] if j >= i+4] # keep odd i and  j larger than i+3 only"
      ],
      "execution_count": 0,
      "outputs": []
    },
    {
      "metadata": {
        "id": "4VN_k8FIscjD",
        "colab_type": "text"
      },
      "cell_type": "markdown",
      "source": [
        "## Tuples"
      ]
    },
    {
      "metadata": {
        "id": "F56KF4UKscjE",
        "colab_type": "text"
      },
      "cell_type": "markdown",
      "source": [
        "Tuples are similar to lists but only big difference is the elements inside a list can be changed but in tuple it cannot be changed. Think of tuples as something which has to be True for a particular something and cannot be True for no other values. For better understanding, Recall **divmod()** function."
      ]
    },
    {
      "metadata": {
        "id": "oJAYFKCbscjF",
        "colab_type": "code",
        "colab": {}
      },
      "cell_type": "code",
      "source": [
        "xyz = divmod(10,3)\n",
        "print(xyz)\n",
        "print(type(xyz))"
      ],
      "execution_count": 0,
      "outputs": []
    },
    {
      "metadata": {
        "id": "vSkot1WgscjJ",
        "colab_type": "text"
      },
      "cell_type": "markdown",
      "source": [
        "Here the quotient has to be 3 and the remainder has to be 1. These values cannot be changed whatsoever when 10 is divided by 3. Hence divmod returns these values in a tuple."
      ]
    },
    {
      "metadata": {
        "id": "yAjABswCscjJ",
        "colab_type": "text"
      },
      "cell_type": "markdown",
      "source": [
        "To define a tuple, A variable is assigned to paranthesis ( ) or tuple( )."
      ]
    },
    {
      "metadata": {
        "id": "D2hLdzLsscjK",
        "colab_type": "code",
        "colab": {}
      },
      "cell_type": "code",
      "source": [
        "tup = ()\n",
        "tup2 = tuple()"
      ],
      "execution_count": 0,
      "outputs": []
    },
    {
      "metadata": {
        "id": "SHP20QkCscjL",
        "colab_type": "text"
      },
      "cell_type": "markdown",
      "source": [
        "If you want to directly declare a tuple it can be done by using a comma at the end of the data."
      ]
    },
    {
      "metadata": {
        "id": "hgoQGPq0scjN",
        "colab_type": "code",
        "colab": {}
      },
      "cell_type": "code",
      "source": [
        "27,"
      ],
      "execution_count": 0,
      "outputs": []
    },
    {
      "metadata": {
        "id": "WvK_WzSQscjR",
        "colab_type": "text"
      },
      "cell_type": "markdown",
      "source": [
        "27 when multiplied by 2 yields 54, But when multiplied with a tuple the data is repeated twice."
      ]
    },
    {
      "metadata": {
        "id": "RQ6zhHC2scjU",
        "colab_type": "code",
        "colab": {}
      },
      "cell_type": "code",
      "source": [
        "2*(27,)"
      ],
      "execution_count": 0,
      "outputs": []
    },
    {
      "metadata": {
        "id": "as42aANqscjX",
        "colab_type": "text"
      },
      "cell_type": "markdown",
      "source": [
        "Values can be assigned while declaring a tuple. It takes a list as input and converts it into a tuple or it takes a string and converts it into a tuple."
      ]
    },
    {
      "metadata": {
        "scrolled": true,
        "id": "g_Gx058oscjY",
        "colab_type": "code",
        "colab": {}
      },
      "cell_type": "code",
      "source": [
        "tup3 = tuple([1,2,3])\n",
        "print(tup3)\n",
        "tup4 = tuple('Hello')\n",
        "print(tup4)"
      ],
      "execution_count": 0,
      "outputs": []
    },
    {
      "metadata": {
        "id": "-cf0pre0scjb",
        "colab_type": "text"
      },
      "cell_type": "markdown",
      "source": [
        "It follows the same indexing and slicing as Lists."
      ]
    },
    {
      "metadata": {
        "id": "RA7N551Gscjb",
        "colab_type": "code",
        "colab": {}
      },
      "cell_type": "code",
      "source": [
        "print(tup3[1])\n",
        "tup5 = tup4[:3]\n",
        "print(tup5)"
      ],
      "execution_count": 0,
      "outputs": []
    },
    {
      "metadata": {
        "id": "_m-o9FRVscjd",
        "colab_type": "text"
      },
      "cell_type": "markdown",
      "source": [
        "### Mapping one tuple to another\n",
        "Tupples can be used as the left hand side of assignments and are matched to the correct right hand side elements - assuming they have the right length"
      ]
    },
    {
      "metadata": {
        "id": "7JZciyz2scje",
        "colab_type": "code",
        "colab": {}
      },
      "cell_type": "code",
      "source": [
        "(a,b,c)= ('alpha','beta','gamma') # are optional\n",
        "a,b,c= 'alpha','beta','gamma' # The same as the above\n",
        "print(a,b,c)\n",
        "a,b,c = ['Alpha','Beta','Gamma'] # can assign lists\n",
        "print(a,b,c)\n",
        "[a,b,c]=('this','is','ok') # even this is OK\n",
        "print(a,b,c)"
      ],
      "execution_count": 0,
      "outputs": []
    },
    {
      "metadata": {
        "collapsed": false,
        "id": "kpRxoL61scjf",
        "colab_type": "text"
      },
      "cell_type": "markdown",
      "source": [
        "More complex nexted unpackings of values are also possible"
      ]
    },
    {
      "metadata": {
        "id": "tC6NB3Y3scjg",
        "colab_type": "code",
        "colab": {}
      },
      "cell_type": "code",
      "source": [
        "(w,(x,y),z)=(1,(2,3),4)\n",
        "print(w,x,y,z)\n",
        "(w,xy,z)=(1,(2,3),4)\n",
        "print(w,xy,z) # notice that xy is now a tuple"
      ],
      "execution_count": 0,
      "outputs": []
    },
    {
      "metadata": {
        "id": "byJUAIghscjj",
        "colab_type": "text"
      },
      "cell_type": "markdown",
      "source": [
        "### Built In Tuple functions"
      ]
    },
    {
      "metadata": {
        "id": "Bn-IANNfscjj",
        "colab_type": "text"
      },
      "cell_type": "markdown",
      "source": [
        "**count()** function counts the number of specified element that is present in the tuple."
      ]
    },
    {
      "metadata": {
        "id": "v8yhDsq_scjj",
        "colab_type": "code",
        "colab": {}
      },
      "cell_type": "code",
      "source": [
        "d=tuple('a string with many \"a\"s')\n",
        "d.count('a')"
      ],
      "execution_count": 0,
      "outputs": []
    },
    {
      "metadata": {
        "id": "xdqS_djXscjm",
        "colab_type": "text"
      },
      "cell_type": "markdown",
      "source": [
        "**index()** function returns the index of the specified element. If the elements are more than one then the index of the first element of that specified element is returned"
      ]
    },
    {
      "metadata": {
        "id": "UgEvVlzcscjn",
        "colab_type": "code",
        "colab": {}
      },
      "cell_type": "code",
      "source": [
        "d.index('a')"
      ],
      "execution_count": 0,
      "outputs": []
    },
    {
      "metadata": {
        "id": "UR4qYhS3scjp",
        "colab_type": "text"
      },
      "cell_type": "markdown",
      "source": [
        "## Sets"
      ]
    },
    {
      "metadata": {
        "id": "MOgevPurscjp",
        "colab_type": "text"
      },
      "cell_type": "markdown",
      "source": [
        "Sets are mainly used to eliminate repeated numbers in a sequence/list. It is also used to perform some standard set operations.\n",
        "\n",
        "Sets are declared as set() which will initialize a empty set. Also `set([sequence])` can be executed to declare a set with elements"
      ]
    },
    {
      "metadata": {
        "id": "pgERCYEKscjq",
        "colab_type": "code",
        "colab": {}
      },
      "cell_type": "code",
      "source": [
        "set1 = set()\n",
        "print(type(set1))"
      ],
      "execution_count": 0,
      "outputs": []
    },
    {
      "metadata": {
        "id": "3BBQ3RAMscjv",
        "colab_type": "code",
        "colab": {}
      },
      "cell_type": "code",
      "source": [
        "set0 = set([1,2,2,3,3,4])\n",
        "set0 = {1,2,2,3,3,4} # equivalent to the above\n",
        "print(set0)"
      ],
      "execution_count": 0,
      "outputs": []
    },
    {
      "metadata": {
        "id": "PGRBa_Rvscj0",
        "colab_type": "text"
      },
      "cell_type": "markdown",
      "source": [
        "elements 2,3 which are repeated twice are seen only once. Thus in a set each element is distinct.\n",
        "\n",
        "However be warned that **{}** is **NOT** a set, but a dictionary (see next chapter of this tutorial)"
      ]
    },
    {
      "metadata": {
        "id": "NwGEOIpnscj0",
        "colab_type": "code",
        "colab": {}
      },
      "cell_type": "code",
      "source": [
        "type({})"
      ],
      "execution_count": 0,
      "outputs": []
    },
    {
      "metadata": {
        "id": "WmE5OCg4scj6",
        "colab_type": "text"
      },
      "cell_type": "markdown",
      "source": [
        "### Built-in Functions"
      ]
    },
    {
      "metadata": {
        "id": "dR0DuQ5Zscj7",
        "colab_type": "code",
        "colab": {}
      },
      "cell_type": "code",
      "source": [
        "set1 = set([1,2,3])"
      ],
      "execution_count": 0,
      "outputs": []
    },
    {
      "metadata": {
        "id": "JN3fvuVLsckA",
        "colab_type": "code",
        "colab": {}
      },
      "cell_type": "code",
      "source": [
        "set2 = set([2,3,4,5])"
      ],
      "execution_count": 0,
      "outputs": []
    },
    {
      "metadata": {
        "id": "CjdXeUr3sckD",
        "colab_type": "text"
      },
      "cell_type": "markdown",
      "source": [
        "**union( )** function returns a set which contains all the elements of both the sets without repition."
      ]
    },
    {
      "metadata": {
        "id": "kypfV5K5sckD",
        "colab_type": "code",
        "colab": {}
      },
      "cell_type": "code",
      "source": [
        "set1.union(set2)"
      ],
      "execution_count": 0,
      "outputs": []
    },
    {
      "metadata": {
        "id": "NEaCbCigsckH",
        "colab_type": "text"
      },
      "cell_type": "markdown",
      "source": [
        "**add( )** will add a particular element into the set. Note that the index of the newly added element is arbitrary and can be placed anywhere not neccessarily in the end."
      ]
    },
    {
      "metadata": {
        "id": "TypC070RsckI",
        "colab_type": "code",
        "colab": {}
      },
      "cell_type": "code",
      "source": [
        "set1.add(0)\n",
        "set1"
      ],
      "execution_count": 0,
      "outputs": []
    },
    {
      "metadata": {
        "id": "3eiBLHfAsckM",
        "colab_type": "text"
      },
      "cell_type": "markdown",
      "source": [
        "**intersection( )** function outputs a set which contains all the elements that are in both sets."
      ]
    },
    {
      "metadata": {
        "id": "1uMmzyNasckN",
        "colab_type": "code",
        "colab": {}
      },
      "cell_type": "code",
      "source": [
        "set1.intersection(set2)"
      ],
      "execution_count": 0,
      "outputs": []
    },
    {
      "metadata": {
        "id": "EFcxEBKksckO",
        "colab_type": "text"
      },
      "cell_type": "markdown",
      "source": [
        "**difference( )** function ouptuts a set which contains elements that are in set1 and not in set2."
      ]
    },
    {
      "metadata": {
        "id": "Io3gxnntsckP",
        "colab_type": "code",
        "colab": {}
      },
      "cell_type": "code",
      "source": [
        "set1.difference(set2)"
      ],
      "execution_count": 0,
      "outputs": []
    },
    {
      "metadata": {
        "id": "-4Eafc4usckQ",
        "colab_type": "text"
      },
      "cell_type": "markdown",
      "source": [
        "**symmetric_difference( )** function ouputs a function which contains elements that are in one of the sets."
      ]
    },
    {
      "metadata": {
        "id": "TK9iQWztsckR",
        "colab_type": "code",
        "colab": {}
      },
      "cell_type": "code",
      "source": [
        "set2.symmetric_difference(set1)"
      ],
      "execution_count": 0,
      "outputs": []
    },
    {
      "metadata": {
        "id": "G2FfivarsckS",
        "colab_type": "text"
      },
      "cell_type": "markdown",
      "source": [
        "**issubset( ), isdisjoint( ), issuperset( )** is used to check if the set1/set2 is a subset, disjoint or superset of set2/set1 respectively."
      ]
    },
    {
      "metadata": {
        "id": "qDZijzoesckS",
        "colab_type": "code",
        "colab": {}
      },
      "cell_type": "code",
      "source": [
        "set1.issubset(set2)"
      ],
      "execution_count": 0,
      "outputs": []
    },
    {
      "metadata": {
        "id": "MT7dSSMXsckX",
        "colab_type": "code",
        "colab": {}
      },
      "cell_type": "code",
      "source": [
        "set2.isdisjoint(set1)"
      ],
      "execution_count": 0,
      "outputs": []
    },
    {
      "metadata": {
        "id": "w21067bvsckY",
        "colab_type": "code",
        "colab": {}
      },
      "cell_type": "code",
      "source": [
        "set2.issuperset(set1)"
      ],
      "execution_count": 0,
      "outputs": []
    },
    {
      "metadata": {
        "id": "2AAXXqLhsckZ",
        "colab_type": "text"
      },
      "cell_type": "markdown",
      "source": [
        "**pop( )** is used to remove an arbitrary element in the set"
      ]
    },
    {
      "metadata": {
        "id": "eAFnI8pnscka",
        "colab_type": "code",
        "colab": {}
      },
      "cell_type": "code",
      "source": [
        "set1.pop()\n",
        "print(set1)"
      ],
      "execution_count": 0,
      "outputs": []
    },
    {
      "metadata": {
        "id": "cF9VQPe7sckc",
        "colab_type": "text"
      },
      "cell_type": "markdown",
      "source": [
        "**remove( )** function deletes the specified element from the set."
      ]
    },
    {
      "metadata": {
        "id": "buMZUFF-sckc",
        "colab_type": "code",
        "colab": {}
      },
      "cell_type": "code",
      "source": [
        "set1.remove(2)\n",
        "set1"
      ],
      "execution_count": 0,
      "outputs": []
    },
    {
      "metadata": {
        "id": "5ZeRJ915scke",
        "colab_type": "text"
      },
      "cell_type": "markdown",
      "source": [
        "**clear( )** is used to clear all the elements and make that set an empty set."
      ]
    },
    {
      "metadata": {
        "id": "T1hB-Sviscke",
        "colab_type": "code",
        "colab": {}
      },
      "cell_type": "code",
      "source": [
        "set1.clear()\n",
        "set1"
      ],
      "execution_count": 0,
      "outputs": []
    }
  ]
}
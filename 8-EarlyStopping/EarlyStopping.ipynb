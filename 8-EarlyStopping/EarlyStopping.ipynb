{
  "nbformat": 4,
  "nbformat_minor": 0,
  "metadata": {
    "colab": {
      "name": "Early Stopping",
      "version": "0.3.2",
      "provenance": []
    },
    "kernelspec": {
      "name": "python3",
      "display_name": "Python 3"
    },
    "accelerator": "GPU"
  },
  "cells": [
    {
      "metadata": {
        "id": "hSya9q_2FG-D",
        "colab_type": "code",
        "colab": {}
      },
      "cell_type": "code",
      "source": [
        "%matplotlib inline"
      ],
      "execution_count": 0,
      "outputs": []
    },
    {
      "metadata": {
        "id": "M87WTAZJFTMf",
        "colab_type": "text"
      },
      "cell_type": "markdown",
      "source": [
        "## Install dependencies\n",
        "\n",
        "**Check for GPU**\n",
        "\n",
        "First make sure the nvidia-smi command returns information about the available GPU. If it does not, click Runtime > Change runtime type > Hardware accelerator > GPU. Then run the nvidia-smi command again."
      ]
    },
    {
      "metadata": {
        "id": "IkHOB5N9Fr8b",
        "colab_type": "code",
        "outputId": "18067457-be97-4595-e04c-884726defc42",
        "colab": {
          "base_uri": "https://localhost:8080/",
          "height": 313
        }
      },
      "cell_type": "code",
      "source": [
        "!nvidia-smi"
      ],
      "execution_count": 2,
      "outputs": [
        {
          "output_type": "stream",
          "text": [
            "Thu Nov 22 12:56:24 2018       \n",
            "+-----------------------------------------------------------------------------+\n",
            "| NVIDIA-SMI 396.44                 Driver Version: 396.44                    |\n",
            "|-------------------------------+----------------------+----------------------+\n",
            "| GPU  Name        Persistence-M| Bus-Id        Disp.A | Volatile Uncorr. ECC |\n",
            "| Fan  Temp  Perf  Pwr:Usage/Cap|         Memory-Usage | GPU-Util  Compute M. |\n",
            "|===============================+======================+======================|\n",
            "|   0  Tesla K80           Off  | 00000000:00:04.0 Off |                    0 |\n",
            "| N/A   36C    P8    27W / 149W |      0MiB / 11441MiB |      0%      Default |\n",
            "+-------------------------------+----------------------+----------------------+\n",
            "                                                                               \n",
            "+-----------------------------------------------------------------------------+\n",
            "| Processes:                                                       GPU Memory |\n",
            "|  GPU       PID   Type   Process name                             Usage      |\n",
            "|=============================================================================|\n",
            "|  No running processes found                                                 |\n",
            "+-----------------------------------------------------------------------------+\n"
          ],
          "name": "stdout"
        }
      ]
    },
    {
      "metadata": {
        "id": "SLok2pPHF3dc",
        "colab_type": "code",
        "outputId": "0e607ace-f37d-4647-ec71-91fcd3f97e2f",
        "colab": {
          "base_uri": "https://localhost:8080/",
          "height": 333
        }
      },
      "cell_type": "code",
      "source": [
        "!pip3 install http://download.pytorch.org/whl/cu92/torch-0.4.1-cp36-cp36m-linux_x86_64.whl torchvision"
      ],
      "execution_count": 3,
      "outputs": [
        {
          "output_type": "stream",
          "text": [
            "Collecting torch==0.4.1 from http://download.pytorch.org/whl/cu92/torch-0.4.1-cp36-cp36m-linux_x86_64.whl\n",
            "\u001b[?25l  Downloading http://download.pytorch.org/whl/cu92/torch-0.4.1-cp36-cp36m-linux_x86_64.whl (512.6MB)\n",
            "\u001b[K    100% |████████████████████████████████| 512.6MB 63.5MB/s \n",
            "tcmalloc: large alloc 1073750016 bytes == 0x579a4000 @  0x7f1cf77fd2a4 0x591a07 0x5b5d56 0x502e9a 0x506859 0x502209 0x502f3d 0x506859 0x504c28 0x502540 0x502f3d 0x506859 0x504c28 0x502540 0x502f3d 0x506859 0x504c28 0x502540 0x502f3d 0x507641 0x502209 0x502f3d 0x506859 0x504c28 0x502540 0x502f3d 0x507641 0x504c28 0x502540 0x502f3d 0x507641\n",
            "\u001b[?25hCollecting torchvision\n",
            "\u001b[?25l  Downloading https://files.pythonhosted.org/packages/ca/0d/f00b2885711e08bd71242ebe7b96561e6f6d01fdb4b9dcf4d37e2e13c5e1/torchvision-0.2.1-py2.py3-none-any.whl (54kB)\n",
            "\u001b[K    100% |████████████████████████████████| 61kB 2.4MB/s \n",
            "\u001b[?25hRequirement already satisfied: numpy in /usr/local/lib/python3.6/dist-packages (from torchvision) (1.14.6)\n",
            "Requirement already satisfied: six in /usr/local/lib/python3.6/dist-packages (from torchvision) (1.11.0)\n",
            "Collecting pillow>=4.1.1 (from torchvision)\n",
            "\u001b[?25l  Downloading https://files.pythonhosted.org/packages/62/94/5430ebaa83f91cc7a9f687ff5238e26164a779cca2ef9903232268b0a318/Pillow-5.3.0-cp36-cp36m-manylinux1_x86_64.whl (2.0MB)\n",
            "\u001b[K    100% |████████████████████████████████| 2.0MB 5.1MB/s \n",
            "\u001b[?25hInstalling collected packages: torch, pillow, torchvision\n",
            "  Found existing installation: Pillow 4.0.0\n",
            "    Uninstalling Pillow-4.0.0:\n",
            "      Successfully uninstalled Pillow-4.0.0\n",
            "Successfully installed pillow-5.3.0 torch-0.4.1 torchvision-0.2.1\n"
          ],
          "name": "stdout"
        }
      ]
    },
    {
      "metadata": {
        "id": "sxFpz4t9GGjs",
        "colab_type": "code",
        "outputId": "d4d0bad6-46ea-4112-d4c0-8278732361da",
        "colab": {
          "base_uri": "https://localhost:8080/",
          "height": 139
        }
      },
      "cell_type": "code",
      "source": [
        "!git clone https://github.com/sg2/intro"
      ],
      "execution_count": 4,
      "outputs": [
        {
          "output_type": "stream",
          "text": [
            "Cloning into 'intro'...\n",
            "remote: Enumerating objects: 6, done.\u001b[K\n",
            "remote: Counting objects: 100% (6/6), done.\u001b[K\n",
            "remote: Compressing objects: 100% (5/5), done.\u001b[K\n",
            "remote: Total 385 (delta 0), reused 5 (delta 0), pack-reused 379\u001b[K\n",
            "Receiving objects: 100% (385/385), 17.08 MiB | 7.21 MiB/s, done.\n",
            "Resolving deltas: 100% (152/152), done.\n"
          ],
          "name": "stdout"
        }
      ]
    },
    {
      "metadata": {
        "id": "CDHwcRxregCO",
        "colab_type": "code",
        "outputId": "ff9c7ab2-3fa3-411e-a229-c9970b944f52",
        "colab": {
          "base_uri": "https://localhost:8080/",
          "height": 34
        }
      },
      "cell_type": "code",
      "source": [
        "cd intro/8-EarlyStopping"
      ],
      "execution_count": 5,
      "outputs": [
        {
          "output_type": "stream",
          "text": [
            "/content/intro/8-EarlyStopping\n"
          ],
          "name": "stdout"
        }
      ]
    },
    {
      "metadata": {
        "colab_type": "text",
        "id": "MFmciSGAivAl"
      },
      "cell_type": "markdown",
      "source": [
        "Early stopping\n",
        "=====================\n",
        "Adapted from https://pytorch.org/tutorials/beginner/deep_learning_60min_blitz.html\n",
        "\n",
        "Data should be split into train/dev/test splits.\n",
        "\n",
        "1. Training set: a set of examples used for learning: to fit the parameters of the classifier.\n",
        "\n",
        "2. Dev set: a set of examples used to tune the parameters of a classifier. We would use the validation set to find the \"optimal\" number of hidden units or determine a stopping point for the back-propagation algorithm.\n",
        "\n",
        "3. Test set: a set of examples used only to assess the performance of a fully-trained classifier. We use this test to estimate the error rate after we have chosen the final model. After assessing the final model on the test set, YOU MUST NOT tune the model any further!\n",
        "\n",
        "Reference: https://stats.stackexchange.com/questions/19048/what-is-the-difference-between-test-set-and-validation-set\n",
        "\n",
        "## Early stopping\n",
        "Early stopping is a technique to prevent over-fitting to the train set.\n",
        "\n",
        "![](https://github.com/sg2/intro/blob/master/8-EarlyStopping/images/early_stopping.png?raw=1)"
      ]
    },
    {
      "metadata": {
        "id": "4iFYowbFGFCh",
        "colab_type": "text"
      },
      "cell_type": "markdown",
      "source": [
        "## 1. Load and normalizing the CIFAR10 training and test datasets using\n",
        "Using ``torchvision``, it’s extremely easy to load CIFAR10."
      ]
    },
    {
      "metadata": {
        "id": "6inzmM3VFG-J",
        "colab_type": "code",
        "colab": {}
      },
      "cell_type": "code",
      "source": [
        "import torch\n",
        "import torchvision\n",
        "import torchvision.transforms as transforms"
      ],
      "execution_count": 0,
      "outputs": []
    },
    {
      "metadata": {
        "id": "Z0XqWMQzP7Zv",
        "colab_type": "text"
      },
      "cell_type": "markdown",
      "source": [
        "Set the device to GPU"
      ]
    },
    {
      "metadata": {
        "id": "lDVUNpjKP_zB",
        "colab_type": "code",
        "colab": {
          "base_uri": "https://localhost:8080/",
          "height": 34
        },
        "outputId": "79d8b6b7-d0f9-4511-8795-e0ac7040c422"
      },
      "cell_type": "code",
      "source": [
        "device = torch.device(\"cuda:0\" if torch.cuda.is_available() else \"cpu\")\n",
        "print(device)"
      ],
      "execution_count": 12,
      "outputs": [
        {
          "output_type": "stream",
          "text": [
            "cuda:0\n"
          ],
          "name": "stdout"
        }
      ]
    },
    {
      "metadata": {
        "id": "uw4c8jyxFG-N",
        "colab_type": "text"
      },
      "cell_type": "markdown",
      "source": [
        "The output of torchvision datasets are PILImage images of range [0, 1].\n",
        "We transform them to Tensors of normalized range [-1, 1].\n",
        "\n"
      ]
    },
    {
      "metadata": {
        "id": "mTrKC6bDFG-O",
        "colab_type": "code",
        "colab": {
          "base_uri": "https://localhost:8080/",
          "height": 52
        },
        "outputId": "315538ee-8c8f-4986-f0b7-f89c7bca3148"
      },
      "cell_type": "code",
      "source": [
        "transform = transforms.Compose(\n",
        "    [transforms.ToTensor(),\n",
        "     transforms.Normalize((0.5, 0.5, 0.5), (0.5, 0.5, 0.5))])\n",
        "\n",
        "trainset = torchvision.datasets.CIFAR10(root='./data', train=True,\n",
        "                                        download=True, transform=transform)\n",
        "trainloader = torch.utils.data.DataLoader(trainset, batch_size=32,\n",
        "                                          shuffle=True, num_workers=2)\n",
        "\n",
        "devset = torchvision.datasets.CIFAR10(root='./data', train=False,\n",
        "                                       download=True, transform=transform)\n",
        "devloader = torch.utils.data.DataLoader(devset, batch_size=32,\n",
        "                                         shuffle=False, num_workers=2)\n",
        "\n",
        "classes = ('plane', 'car', 'bird', 'cat',\n",
        "           'deer', 'dog', 'frog', 'horse', 'ship', 'truck')"
      ],
      "execution_count": 48,
      "outputs": [
        {
          "output_type": "stream",
          "text": [
            "Files already downloaded and verified\n",
            "Files already downloaded and verified\n"
          ],
          "name": "stdout"
        }
      ]
    },
    {
      "metadata": {
        "id": "xr2Z25NHuf50",
        "colab_type": "code",
        "colab": {
          "base_uri": "https://localhost:8080/",
          "height": 52
        },
        "outputId": "2f617f5b-4e4e-4b7d-8ef9-b05e663a38ae"
      },
      "cell_type": "code",
      "source": [
        "print(len(trainset))\n",
        "print(len(devset))"
      ],
      "execution_count": 23,
      "outputs": [
        {
          "output_type": "stream",
          "text": [
            "50000\n",
            "10000\n"
          ],
          "name": "stdout"
        }
      ]
    },
    {
      "metadata": {
        "id": "wJ0xxpgDFG-T",
        "colab_type": "text"
      },
      "cell_type": "markdown",
      "source": [
        "Let us show some of the training images, for fun.\n",
        "\n"
      ]
    },
    {
      "metadata": {
        "id": "oTqgQwdbFG-U",
        "colab_type": "code",
        "colab": {
          "base_uri": "https://localhost:8080/",
          "height": 155
        },
        "outputId": "40643985-17d2-40e9-c048-fdaaa3cd5bfd"
      },
      "cell_type": "code",
      "source": [
        "import matplotlib.pyplot as plt\n",
        "import numpy as np\n",
        "\n",
        "# functions to show an image\n",
        "\n",
        "\n",
        "def imshow(img):\n",
        "    img = img / 2 + 0.5     # unnormalize\n",
        "    npimg = img.numpy()\n",
        "    plt.imshow(np.transpose(npimg, (1, 2, 0)))\n",
        "\n",
        "\n",
        "# get some random training images\n",
        "dataiter = iter(trainloader)\n",
        "images, labels = dataiter.next()\n",
        "\n",
        "# show images\n",
        "imshow(torchvision.utils.make_grid(images))\n",
        "# print labels\n",
        "print(' '.join('%5s' % classes[labels[j]] for j in range(4)))"
      ],
      "execution_count": 14,
      "outputs": [
        {
          "output_type": "stream",
          "text": [
            "plane   dog  ship  bird\n"
          ],
          "name": "stdout"
        },
        {
          "output_type": "display_data",
          "data": {
            "image/png": "[encoded data removed]",
            "text/plain": [
              "<matplotlib.figure.Figure at 0x7f8b51f01208>"
            ]
          },
          "metadata": {
            "tags": []
          }
        }
      ]
    },
    {
      "metadata": {
        "id": "KpBUA1iCFG-a",
        "colab_type": "text"
      },
      "cell_type": "markdown",
      "source": [
        "## 2. Define a Convolution Neural Network\n",
        "\n",
        "Needs 3 channels for first layer.\n",
        "\n"
      ]
    },
    {
      "metadata": {
        "id": "G-FBzd78FG-c",
        "colab_type": "code",
        "colab": {
          "base_uri": "https://localhost:8080/",
          "height": 177
        },
        "outputId": "d13e78e1-599a-4eae-f49c-430f37213c54"
      },
      "cell_type": "code",
      "source": [
        "import torch.nn as nn\n",
        "import torch.nn.functional as F\n",
        "\n",
        "class Net(nn.Module):\n",
        "    def __init__(self):\n",
        "        super(Net, self).__init__()\n",
        "        self.conv1 = nn.Conv2d(3, 6, 5)\n",
        "        self.pool = nn.MaxPool2d(2, 2)\n",
        "        self.conv2 = nn.Conv2d(6, 16, 5)\n",
        "        self.fc1 = nn.Linear(16 * 5 * 5, 120)\n",
        "        self.fc2 = nn.Linear(120, 84)\n",
        "        self.fc3 = nn.Linear(84, 10)\n",
        "\n",
        "    def forward(self, x):\n",
        "        x = self.pool(F.relu(self.conv1(x)))\n",
        "        x = self.pool(F.relu(self.conv2(x)))\n",
        "        x = x.view(-1, 16 * 5 * 5)\n",
        "        x = F.relu(self.fc1(x))\n",
        "        x = F.relu(self.fc2(x))\n",
        "        x = self.fc3(x)\n",
        "        return x\n",
        "\n",
        "net = Net()\n",
        "net.to(device)"
      ],
      "execution_count": 53,
      "outputs": [
        {
          "output_type": "execute_result",
          "data": {
            "text/plain": [
              "Net(\n",
              "  (conv1): Conv2d(3, 6, kernel_size=(5, 5), stride=(1, 1))\n",
              "  (pool): MaxPool2d(kernel_size=2, stride=2, padding=0, dilation=1, ceil_mode=False)\n",
              "  (conv2): Conv2d(6, 16, kernel_size=(5, 5), stride=(1, 1))\n",
              "  (fc1): Linear(in_features=400, out_features=120, bias=True)\n",
              "  (fc2): Linear(in_features=120, out_features=84, bias=True)\n",
              "  (fc3): Linear(in_features=84, out_features=10, bias=True)\n",
              ")"
            ]
          },
          "metadata": {
            "tags": []
          },
          "execution_count": 53
        }
      ]
    },
    {
      "metadata": {
        "id": "ECWRz_FrFG-h",
        "colab_type": "text"
      },
      "cell_type": "markdown",
      "source": [
        "## 3. Define a Loss function and optimizer\n",
        "\n",
        "Let's use a Classification Cross-Entropy loss and SGD with momentum.\n",
        "\n"
      ]
    },
    {
      "metadata": {
        "id": "Y6lZFp4mFG-j",
        "colab_type": "code",
        "colab": {}
      },
      "cell_type": "code",
      "source": [
        "import torch.optim as optim\n",
        "\n",
        "criterion = nn.CrossEntropyLoss()\n",
        "optimizer = optim.SGD(net.parameters(), lr=0.001, momentum=0.9)"
      ],
      "execution_count": 0,
      "outputs": []
    },
    {
      "metadata": {
        "id": "05qA0cr3FG-n",
        "colab_type": "text"
      },
      "cell_type": "markdown",
      "source": [
        "## 4. Train the network\n",
        "\n",
        "\n",
        "This is when things start to get interesting.\n",
        "We simply have to loop over our data iterator, and feed the inputs to the\n",
        "network and optimize.\n",
        "\n"
      ]
    },
    {
      "metadata": {
        "id": "fMz2FUcQFG-o",
        "colab_type": "code",
        "colab": {
          "base_uri": "https://localhost:8080/",
          "height": 11934
        },
        "outputId": "d68e375f-532b-497d-832f-10a47a6a0431"
      },
      "cell_type": "code",
      "source": [
        "running_losses = []\n",
        "dev_losses = []\n",
        "for epoch in range(50):  # loop over the dataset multiple times\n",
        "\n",
        "    running_loss = 0.0   \n",
        "    for i, data in enumerate(trainloader, 0):\n",
        "        # get the inputs\n",
        "        inputs, labels = data\n",
        "        \n",
        "        inputs, labels = inputs.to(device), labels.to(device)\n",
        "\n",
        "        # zero the parameter gradients\n",
        "        optimizer.zero_grad()\n",
        "\n",
        "        # forward + backward + optimize\n",
        "        outputs = net(inputs)\n",
        "        loss = criterion(outputs, labels)\n",
        "        loss.backward()\n",
        "        optimizer.step()\n",
        "\n",
        "        # print statistics\n",
        "        running_loss += loss.item()\n",
        "        batch_errors.append(loss.item())\n",
        "        if i % 200 == 199:    # print every 200 mini-batches\n",
        "          \n",
        "        with torch.no_grad():\n",
        "            for data in devloader:\n",
        "              images, labels = data\n",
        "              images, labels = images.to(device), labels.to(device)\n",
        "              outputs = net(images)\n",
        "              dev_loss = criterion(outputs, labels)\n",
        "              dev_losses.append(dev_loss.item())\n",
        "          \n",
        "            print('[%d, %5d] loss: %.3f' %\n",
        "                  (epoch + 1, i + 1, running_loss / 200))\n",
        "            print(dev_loss.item())\n",
        "            running_losses.append(running_loss)\n",
        "            running_loss = 0.0\n",
        "\n",
        "print('Finished Training')"
      ],
      "execution_count": 55,
      "outputs": [
        {
          "output_type": "stream",
          "text": [
            "[1,   200] loss: 0.230\n",
            "2.286351442337036\n",
            "[1,   400] loss: 0.230\n",
            "2.275902509689331\n",
            "[1,   600] loss: 0.228\n",
            "2.2051773071289062\n",
            "[1,   800] loss: 0.222\n",
            "2.038329839706421\n",
            "[1,  1000] loss: 0.215\n",
            "1.8987867832183838\n",
            "[1,  1200] loss: 0.208\n",
            "1.7604905366897583\n",
            "[1,  1400] loss: 0.203\n",
            "1.7652549743652344\n",
            "[2,   200] loss: 0.199\n",
            "1.667400598526001\n",
            "[2,   400] loss: 0.193\n",
            "1.5668647289276123\n",
            "[2,   600] loss: 0.190\n",
            "1.5648889541625977\n",
            "[2,   800] loss: 0.185\n",
            "1.590431571006775\n",
            "[2,  1000] loss: 0.180\n",
            "1.5256578922271729\n",
            "[2,  1200] loss: 0.176\n",
            "1.6123602390289307\n",
            "[2,  1400] loss: 0.171\n",
            "1.4312469959259033\n",
            "[3,   200] loss: 0.168\n",
            "1.407964825630188\n",
            "[3,   400] loss: 0.160\n",
            "1.2750296592712402\n",
            "[3,   600] loss: 0.162\n",
            "1.315816879272461\n",
            "[3,   800] loss: 0.160\n",
            "1.382876992225647\n",
            "[3,  1000] loss: 0.157\n",
            "1.3244836330413818\n",
            "[3,  1200] loss: 0.155\n",
            "1.165776014328003\n",
            "[3,  1400] loss: 0.152\n",
            "1.190575122833252\n",
            "[4,   200] loss: 0.151\n",
            "1.242818832397461\n",
            "[4,   400] loss: 0.150\n",
            "1.1872532367706299\n",
            "[4,   600] loss: 0.149\n",
            "1.2882803678512573\n",
            "[4,   800] loss: 0.147\n",
            "1.1435012817382812\n",
            "[4,  1000] loss: 0.144\n",
            "1.0809869766235352\n",
            "[4,  1200] loss: 0.144\n",
            "1.2345585823059082\n",
            "[4,  1400] loss: 0.139\n",
            "1.1480810642242432\n",
            "[5,   200] loss: 0.140\n",
            "1.1257572174072266\n",
            "[5,   400] loss: 0.141\n",
            "1.0122658014297485\n",
            "[5,   600] loss: 0.140\n",
            "1.0826255083084106\n",
            "[5,   800] loss: 0.137\n",
            "1.1324882507324219\n",
            "[5,  1000] loss: 0.137\n",
            "1.099194049835205\n",
            "[5,  1200] loss: 0.137\n",
            "1.0868606567382812\n",
            "[5,  1400] loss: 0.135\n",
            "0.994750440120697\n",
            "[6,   200] loss: 0.133\n",
            "1.0818639993667603\n",
            "[6,   400] loss: 0.132\n",
            "0.9709575176239014\n",
            "[6,   600] loss: 0.132\n",
            "1.1906628608703613\n",
            "[6,   800] loss: 0.129\n",
            "1.2618788480758667\n",
            "[6,  1000] loss: 0.130\n",
            "1.0015637874603271\n",
            "[6,  1200] loss: 0.130\n",
            "1.2022513151168823\n",
            "[6,  1400] loss: 0.129\n",
            "1.0632565021514893\n",
            "[7,   200] loss: 0.125\n",
            "0.9370813369750977\n",
            "[7,   400] loss: 0.127\n",
            "1.1617882251739502\n",
            "[7,   600] loss: 0.126\n",
            "1.2024264335632324\n",
            "[7,   800] loss: 0.125\n",
            "1.2682479619979858\n",
            "[7,  1000] loss: 0.123\n",
            "1.2168735265731812\n",
            "[7,  1200] loss: 0.124\n",
            "1.2666414976119995\n",
            "[7,  1400] loss: 0.124\n",
            "1.2670694589614868\n",
            "[8,   200] loss: 0.118\n",
            "1.078096628189087\n",
            "[8,   400] loss: 0.120\n",
            "1.3861305713653564\n",
            "[8,   600] loss: 0.121\n",
            "1.3886483907699585\n",
            "[8,   800] loss: 0.121\n",
            "1.2338117361068726\n",
            "[8,  1000] loss: 0.121\n",
            "1.1990773677825928\n",
            "[8,  1200] loss: 0.120\n",
            "1.3498141765594482\n",
            "[8,  1400] loss: 0.120\n",
            "1.1175298690795898\n",
            "[9,   200] loss: 0.116\n",
            "1.2151570320129395\n",
            "[9,   400] loss: 0.115\n",
            "1.187303900718689\n",
            "[9,   600] loss: 0.115\n",
            "1.1097966432571411\n",
            "[9,   800] loss: 0.116\n",
            "1.3083364963531494\n",
            "[9,  1000] loss: 0.115\n",
            "1.3700652122497559\n",
            "[9,  1200] loss: 0.116\n",
            "1.3847498893737793\n",
            "[9,  1400] loss: 0.115\n",
            "1.3334214687347412\n",
            "[10,   200] loss: 0.113\n",
            "1.1970913410186768\n",
            "[10,   400] loss: 0.111\n",
            "1.117423415184021\n",
            "[10,   600] loss: 0.111\n",
            "1.0910425186157227\n",
            "[10,   800] loss: 0.112\n",
            "0.9510710835456848\n",
            "[10,  1000] loss: 0.110\n",
            "1.0373629331588745\n",
            "[10,  1200] loss: 0.111\n",
            "1.3789465427398682\n",
            "[10,  1400] loss: 0.112\n",
            "1.3171422481536865\n",
            "[11,   200] loss: 0.107\n",
            "0.9857854247093201\n",
            "[11,   400] loss: 0.110\n",
            "1.0403156280517578\n",
            "[11,   600] loss: 0.110\n",
            "1.2026251554489136\n",
            "[11,   800] loss: 0.106\n",
            "1.0293357372283936\n",
            "[11,  1000] loss: 0.108\n",
            "1.1781070232391357\n",
            "[11,  1200] loss: 0.109\n",
            "1.0938639640808105\n",
            "[11,  1400] loss: 0.109\n",
            "1.0260906219482422\n",
            "[12,   200] loss: 0.106\n",
            "1.1916041374206543\n",
            "[12,   400] loss: 0.105\n",
            "1.0925378799438477\n",
            "[12,   600] loss: 0.106\n",
            "1.0484392642974854\n",
            "[12,   800] loss: 0.107\n",
            "1.0610172748565674\n",
            "[12,  1000] loss: 0.106\n",
            "1.001564383506775\n",
            "[12,  1200] loss: 0.103\n",
            "1.2849289178848267\n",
            "[12,  1400] loss: 0.104\n",
            "1.2018871307373047\n",
            "[13,   200] loss: 0.104\n",
            "1.2188242673873901\n",
            "[13,   400] loss: 0.103\n",
            "1.2848776578903198\n",
            "[13,   600] loss: 0.102\n",
            "1.0518258810043335\n",
            "[13,   800] loss: 0.101\n",
            "1.2654407024383545\n",
            "[13,  1000] loss: 0.103\n",
            "0.9308476448059082\n",
            "[13,  1200] loss: 0.101\n",
            "1.1346737146377563\n",
            "[13,  1400] loss: 0.103\n",
            "1.1492407321929932\n",
            "[14,   200] loss: 0.100\n",
            "1.066413164138794\n",
            "[14,   400] loss: 0.097\n",
            "1.051339864730835\n",
            "[14,   600] loss: 0.099\n",
            "1.1991119384765625\n",
            "[14,   800] loss: 0.099\n",
            "1.1879603862762451\n",
            "[14,  1000] loss: 0.099\n",
            "1.0810366868972778\n",
            "[14,  1200] loss: 0.099\n",
            "1.050307273864746\n",
            "[14,  1400] loss: 0.099\n",
            "1.1047887802124023\n",
            "[15,   200] loss: 0.093\n",
            "1.0147727727890015\n",
            "[15,   400] loss: 0.097\n",
            "1.0573915243148804\n",
            "[15,   600] loss: 0.097\n",
            "1.055230975151062\n",
            "[15,   800] loss: 0.096\n",
            "0.996076226234436\n",
            "[15,  1000] loss: 0.096\n",
            "1.0267503261566162\n",
            "[15,  1200] loss: 0.098\n",
            "1.2226253747940063\n",
            "[15,  1400] loss: 0.096\n",
            "1.1786613464355469\n",
            "[16,   200] loss: 0.093\n",
            "0.9438313841819763\n",
            "[16,   400] loss: 0.092\n",
            "0.9605478644371033\n",
            "[16,   600] loss: 0.094\n",
            "1.286191701889038\n",
            "[16,   800] loss: 0.093\n",
            "0.8859854340553284\n",
            "[16,  1000] loss: 0.094\n",
            "0.958835244178772\n",
            "[16,  1200] loss: 0.094\n",
            "1.0776339769363403\n",
            "[16,  1400] loss: 0.096\n",
            "1.033886194229126\n",
            "[17,   200] loss: 0.090\n",
            "0.9107145667076111\n",
            "[17,   400] loss: 0.092\n",
            "1.0339545011520386\n",
            "[17,   600] loss: 0.092\n",
            "1.0122990608215332\n",
            "[17,   800] loss: 0.091\n",
            "1.2381409406661987\n",
            "[17,  1000] loss: 0.090\n",
            "1.2485905885696411\n",
            "[17,  1200] loss: 0.091\n",
            "1.0129516124725342\n",
            "[17,  1400] loss: 0.092\n",
            "0.9286672472953796\n",
            "[18,   200] loss: 0.088\n",
            "0.9454948902130127\n",
            "[18,   400] loss: 0.090\n",
            "1.084033489227295\n",
            "[18,   600] loss: 0.086\n",
            "1.096186876296997\n",
            "[18,   800] loss: 0.088\n",
            "1.1145025491714478\n",
            "[18,  1000] loss: 0.088\n",
            "1.0685477256774902\n",
            "[18,  1200] loss: 0.088\n",
            "1.0306150913238525\n",
            "[18,  1400] loss: 0.091\n",
            "1.276574969291687\n",
            "[19,   200] loss: 0.087\n",
            "1.0296554565429688\n",
            "[19,   400] loss: 0.085\n",
            "1.0913794040679932\n",
            "[19,   600] loss: 0.085\n",
            "1.1816272735595703\n",
            "[19,   800] loss: 0.089\n",
            "1.1067190170288086\n",
            "[19,  1000] loss: 0.089\n",
            "0.9592016935348511\n",
            "[19,  1200] loss: 0.086\n",
            "1.1687676906585693\n",
            "[19,  1400] loss: 0.088\n",
            "1.057997465133667\n",
            "[20,   200] loss: 0.080\n",
            "1.093660593032837\n",
            "[20,   400] loss: 0.085\n",
            "1.099222183227539\n",
            "[20,   600] loss: 0.084\n",
            "0.8224201798439026\n",
            "[20,   800] loss: 0.082\n",
            "0.8771460056304932\n",
            "[20,  1000] loss: 0.087\n",
            "1.0049655437469482\n",
            "[20,  1200] loss: 0.085\n",
            "1.1796585321426392\n",
            "[20,  1400] loss: 0.086\n",
            "1.4730335474014282\n",
            "[21,   200] loss: 0.080\n",
            "1.3045263290405273\n",
            "[21,   400] loss: 0.080\n",
            "1.3548851013183594\n",
            "[21,   600] loss: 0.081\n",
            "1.1722623109817505\n",
            "[21,   800] loss: 0.083\n",
            "1.1930351257324219\n",
            "[21,  1000] loss: 0.084\n",
            "1.0410633087158203\n",
            "[21,  1200] loss: 0.087\n",
            "1.0573557615280151\n",
            "[21,  1400] loss: 0.083\n",
            "1.1943879127502441\n",
            "[22,   200] loss: 0.080\n",
            "0.914648175239563\n",
            "[22,   400] loss: 0.079\n",
            "0.9284402132034302\n",
            "[22,   600] loss: 0.080\n",
            "1.123244047164917\n",
            "[22,   800] loss: 0.082\n",
            "0.9444587826728821\n",
            "[22,  1000] loss: 0.080\n",
            "1.1147334575653076\n",
            "[22,  1200] loss: 0.081\n",
            "1.2697861194610596\n",
            "[22,  1400] loss: 0.082\n",
            "1.0949465036392212\n",
            "[23,   200] loss: 0.077\n",
            "1.044604778289795\n",
            "[23,   400] loss: 0.079\n",
            "1.1002453565597534\n",
            "[23,   600] loss: 0.079\n",
            "1.3988606929779053\n",
            "[23,   800] loss: 0.078\n",
            "1.1052714586257935\n",
            "[23,  1000] loss: 0.080\n",
            "1.1370428800582886\n",
            "[23,  1200] loss: 0.078\n",
            "1.2034952640533447\n",
            "[23,  1400] loss: 0.079\n",
            "1.2419217824935913\n",
            "[24,   200] loss: 0.075\n",
            "1.1786470413208008\n",
            "[24,   400] loss: 0.076\n",
            "1.19035005569458\n",
            "[24,   600] loss: 0.075\n",
            "1.3050782680511475\n",
            "[24,   800] loss: 0.078\n",
            "1.2862147092819214\n",
            "[24,  1000] loss: 0.077\n",
            "1.0837830305099487\n",
            "[24,  1200] loss: 0.078\n",
            "1.1693568229675293\n",
            "[24,  1400] loss: 0.078\n",
            "1.2373619079589844\n",
            "[25,   200] loss: 0.073\n",
            "1.1576250791549683\n",
            "[25,   400] loss: 0.074\n",
            "1.017533302307129\n",
            "[25,   600] loss: 0.072\n",
            "1.5245765447616577\n",
            "[25,   800] loss: 0.075\n",
            "1.1734950542449951\n",
            "[25,  1000] loss: 0.077\n",
            "1.1303881406784058\n",
            "[25,  1200] loss: 0.078\n",
            "1.0169055461883545\n",
            "[25,  1400] loss: 0.073\n",
            "0.9684472680091858\n",
            "[26,   200] loss: 0.070\n",
            "1.1668716669082642\n",
            "[26,   400] loss: 0.071\n",
            "1.2041208744049072\n",
            "[26,   600] loss: 0.075\n",
            "0.90566086769104\n",
            "[26,   800] loss: 0.074\n",
            "1.1383179426193237\n",
            "[26,  1000] loss: 0.073\n",
            "1.1954374313354492\n",
            "[26,  1200] loss: 0.073\n",
            "0.8950986862182617\n",
            "[26,  1400] loss: 0.073\n",
            "1.0940498113632202\n",
            "[27,   200] loss: 0.069\n",
            "0.8866872787475586\n",
            "[27,   400] loss: 0.071\n",
            "1.0388023853302002\n",
            "[27,   600] loss: 0.070\n",
            "1.2719449996948242\n",
            "[27,   800] loss: 0.070\n",
            "1.060532569885254\n",
            "[27,  1000] loss: 0.072\n",
            "1.406104564666748\n",
            "[27,  1200] loss: 0.074\n",
            "1.111796259880066\n",
            "[27,  1400] loss: 0.072\n",
            "0.8655354976654053\n",
            "[28,   200] loss: 0.065\n",
            "1.0699881315231323\n",
            "[28,   400] loss: 0.070\n",
            "1.1928962469100952\n",
            "[28,   600] loss: 0.068\n",
            "1.0177456140518188\n",
            "[28,   800] loss: 0.069\n",
            "1.2361581325531006\n",
            "[28,  1000] loss: 0.069\n",
            "1.2846295833587646\n",
            "[28,  1200] loss: 0.074\n",
            "1.1142189502716064\n",
            "[28,  1400] loss: 0.072\n",
            "1.180727481842041\n",
            "[29,   200] loss: 0.064\n",
            "1.1880595684051514\n",
            "[29,   400] loss: 0.066\n",
            "1.165959358215332\n",
            "[29,   600] loss: 0.070\n",
            "1.4784411191940308\n",
            "[29,   800] loss: 0.069\n",
            "1.0610123872756958\n",
            "[29,  1000] loss: 0.068\n",
            "1.1980012655258179\n",
            "[29,  1200] loss: 0.067\n",
            "1.4311673641204834\n",
            "[29,  1400] loss: 0.071\n",
            "1.0514473915100098\n",
            "[30,   200] loss: 0.064\n",
            "1.431959629058838\n",
            "[30,   400] loss: 0.064\n",
            "1.2139742374420166\n",
            "[30,   600] loss: 0.065\n",
            "1.3853342533111572\n",
            "[30,   800] loss: 0.068\n",
            "0.8701169490814209\n",
            "[30,  1000] loss: 0.069\n",
            "0.9051052331924438\n",
            "[30,  1200] loss: 0.066\n",
            "0.8625025749206543\n",
            "[30,  1400] loss: 0.067\n",
            "1.0228486061096191\n",
            "[31,   200] loss: 0.062\n",
            "1.2385931015014648\n",
            "[31,   400] loss: 0.062\n",
            "1.4818615913391113\n",
            "[31,   600] loss: 0.063\n",
            "1.2143036127090454\n",
            "[31,   800] loss: 0.065\n",
            "0.9595441222190857\n",
            "[31,  1000] loss: 0.067\n",
            "0.918594479560852\n",
            "[31,  1200] loss: 0.069\n",
            "0.9688281416893005\n",
            "[31,  1400] loss: 0.064\n",
            "1.0099451541900635\n",
            "[32,   200] loss: 0.059\n",
            "1.0578612089157104\n",
            "[32,   400] loss: 0.061\n",
            "0.7371400594711304\n",
            "[32,   600] loss: 0.063\n",
            "1.129618763923645\n",
            "[32,   800] loss: 0.064\n",
            "1.2406375408172607\n",
            "[32,  1000] loss: 0.063\n",
            "1.1112844944000244\n",
            "[32,  1200] loss: 0.065\n",
            "1.3352890014648438\n",
            "[32,  1400] loss: 0.065\n",
            "1.058753252029419\n",
            "[33,   200] loss: 0.059\n",
            "1.2353167533874512\n",
            "[33,   400] loss: 0.060\n",
            "1.2148799896240234\n",
            "[33,   600] loss: 0.060\n",
            "1.1612114906311035\n",
            "[33,   800] loss: 0.061\n",
            "1.192775845527649\n",
            "[33,  1000] loss: 0.061\n",
            "0.8629408478736877\n",
            "[33,  1200] loss: 0.063\n",
            "1.18452787399292\n",
            "[33,  1400] loss: 0.065\n",
            "1.285778522491455\n",
            "[34,   200] loss: 0.056\n",
            "0.8205028772354126\n",
            "[34,   400] loss: 0.060\n",
            "1.0614304542541504\n",
            "[34,   600] loss: 0.058\n",
            "1.0027793645858765\n",
            "[34,   800] loss: 0.058\n",
            "1.1171844005584717\n",
            "[34,  1000] loss: 0.061\n",
            "1.1083862781524658\n",
            "[34,  1200] loss: 0.061\n",
            "1.2277684211730957\n",
            "[34,  1400] loss: 0.064\n",
            "1.216782808303833\n",
            "[35,   200] loss: 0.056\n",
            "0.9288467764854431\n",
            "[35,   400] loss: 0.055\n",
            "1.0793216228485107\n",
            "[35,   600] loss: 0.057\n",
            "1.195806860923767\n",
            "[35,   800] loss: 0.059\n",
            "0.9408278465270996\n",
            "[35,  1000] loss: 0.060\n",
            "1.2909938097000122\n",
            "[35,  1200] loss: 0.061\n",
            "1.2977962493896484\n",
            "[35,  1400] loss: 0.063\n",
            "1.1656641960144043\n",
            "[36,   200] loss: 0.056\n",
            "1.1333796977996826\n",
            "[36,   400] loss: 0.057\n",
            "1.2882270812988281\n",
            "[36,   600] loss: 0.057\n",
            "1.0823206901550293\n",
            "[36,   800] loss: 0.056\n",
            "1.1761618852615356\n",
            "[36,  1000] loss: 0.056\n",
            "0.9029468297958374\n",
            "[36,  1200] loss: 0.058\n",
            "1.2220791578292847\n",
            "[36,  1400] loss: 0.059\n",
            "1.4375282526016235\n",
            "[37,   200] loss: 0.054\n",
            "1.0019086599349976\n",
            "[37,   400] loss: 0.055\n",
            "1.0494201183319092\n",
            "[37,   600] loss: 0.055\n",
            "1.0112268924713135\n",
            "[37,   800] loss: 0.055\n",
            "1.172292947769165\n",
            "[37,  1000] loss: 0.056\n",
            "1.3906610012054443\n",
            "[37,  1200] loss: 0.055\n",
            "0.7770264744758606\n",
            "[37,  1400] loss: 0.059\n",
            "1.234938383102417\n",
            "[38,   200] loss: 0.050\n",
            "1.1993838548660278\n",
            "[38,   400] loss: 0.051\n",
            "1.0652892589569092\n",
            "[38,   600] loss: 0.054\n",
            "1.0552630424499512\n",
            "[38,   800] loss: 0.058\n",
            "1.0855501890182495\n",
            "[38,  1000] loss: 0.055\n",
            "0.891008734703064\n",
            "[38,  1200] loss: 0.055\n",
            "1.4207074642181396\n",
            "[38,  1400] loss: 0.057\n",
            "1.3044761419296265\n",
            "[39,   200] loss: 0.050\n",
            "1.4567010402679443\n",
            "[39,   400] loss: 0.051\n",
            "1.2383530139923096\n",
            "[39,   600] loss: 0.052\n",
            "1.2284743785858154\n",
            "[39,   800] loss: 0.054\n",
            "1.390749454498291\n",
            "[39,  1000] loss: 0.054\n",
            "1.3899660110473633\n",
            "[39,  1200] loss: 0.053\n",
            "1.0802059173583984\n",
            "[39,  1400] loss: 0.056\n",
            "1.5075678825378418\n",
            "[40,   200] loss: 0.047\n",
            "1.067950963973999\n",
            "[40,   400] loss: 0.051\n",
            "0.881553053855896\n",
            "[40,   600] loss: 0.052\n",
            "1.3849915266036987\n",
            "[40,   800] loss: 0.053\n",
            "1.2928491830825806\n",
            "[40,  1000] loss: 0.054\n",
            "1.0961123704910278\n",
            "[40,  1200] loss: 0.054\n",
            "1.07438063621521\n",
            "[40,  1400] loss: 0.054\n",
            "1.2078508138656616\n",
            "[41,   200] loss: 0.046\n",
            "1.4533827304840088\n",
            "[41,   400] loss: 0.048\n",
            "1.2235263586044312\n",
            "[41,   600] loss: 0.051\n",
            "1.0939861536026\n",
            "[41,   800] loss: 0.051\n",
            "0.9498206377029419\n",
            "[41,  1000] loss: 0.051\n",
            "1.0393518209457397\n",
            "[41,  1200] loss: 0.053\n",
            "1.0335150957107544\n",
            "[41,  1400] loss: 0.051\n",
            "1.1147968769073486\n",
            "[42,   200] loss: 0.046\n",
            "1.1526203155517578\n",
            "[42,   400] loss: 0.044\n",
            "0.9528511166572571\n",
            "[42,   600] loss: 0.049\n",
            "0.9227414727210999\n",
            "[42,   800] loss: 0.051\n",
            "0.6361600756645203\n",
            "[42,  1000] loss: 0.053\n",
            "0.978834867477417\n",
            "[42,  1200] loss: 0.051\n",
            "1.2291896343231201\n",
            "[42,  1400] loss: 0.052\n",
            "1.0849559307098389\n",
            "[43,   200] loss: 0.046\n",
            "1.2812824249267578\n",
            "[43,   400] loss: 0.044\n",
            "1.1315621137619019\n",
            "[43,   600] loss: 0.046\n",
            "0.7608927488327026\n",
            "[43,   800] loss: 0.049\n",
            "0.7643318176269531\n",
            "[43,  1000] loss: 0.049\n",
            "1.250920057296753\n",
            "[43,  1200] loss: 0.049\n",
            "1.0734198093414307\n",
            "[43,  1400] loss: 0.052\n",
            "1.2364656925201416\n",
            "[44,   200] loss: 0.044\n",
            "0.9663926959037781\n",
            "[44,   400] loss: 0.043\n",
            "1.3544126749038696\n",
            "[44,   600] loss: 0.049\n",
            "1.2116979360580444\n",
            "[44,   800] loss: 0.046\n",
            "1.587266445159912\n",
            "[44,  1000] loss: 0.047\n",
            "1.1585941314697266\n",
            "[44,  1200] loss: 0.048\n",
            "1.0248175859451294\n",
            "[44,  1400] loss: 0.047\n",
            "0.9502286314964294\n",
            "[45,   200] loss: 0.042\n",
            "0.9285356998443604\n",
            "[45,   400] loss: 0.043\n",
            "1.0472608804702759\n",
            "[45,   600] loss: 0.046\n",
            "1.4382413625717163\n",
            "[45,   800] loss: 0.044\n",
            "1.393570899963379\n",
            "[45,  1000] loss: 0.047\n",
            "1.3057055473327637\n",
            "[45,  1200] loss: 0.048\n",
            "1.0567796230316162\n",
            "[45,  1400] loss: 0.049\n",
            "0.826644241809845\n",
            "[46,   200] loss: 0.041\n",
            "0.9013341665267944\n",
            "[46,   400] loss: 0.041\n",
            "1.1424741744995117\n",
            "[46,   600] loss: 0.041\n",
            "1.0175273418426514\n",
            "[46,   800] loss: 0.046\n",
            "0.8357868790626526\n",
            "[46,  1000] loss: 0.045\n",
            "0.8525032997131348\n",
            "[46,  1200] loss: 0.046\n",
            "0.7148595452308655\n",
            "[46,  1400] loss: 0.047\n",
            "0.8512398600578308\n",
            "[47,   200] loss: 0.040\n",
            "0.6645368337631226\n",
            "[47,   400] loss: 0.042\n",
            "1.0307972431182861\n",
            "[47,   600] loss: 0.039\n",
            "1.2021745443344116\n",
            "[47,   800] loss: 0.044\n",
            "1.0535155534744263\n",
            "[47,  1000] loss: 0.044\n",
            "1.461143970489502\n",
            "[47,  1200] loss: 0.044\n",
            "1.119690179824829\n",
            "[47,  1400] loss: 0.047\n",
            "0.9080491065979004\n",
            "[48,   200] loss: 0.041\n",
            "1.3872805833816528\n",
            "[48,   400] loss: 0.041\n",
            "1.2371740341186523\n",
            "[48,   600] loss: 0.040\n",
            "0.9297906756401062\n",
            "[48,   800] loss: 0.041\n",
            "1.048565149307251\n",
            "[48,  1000] loss: 0.041\n",
            "1.153329610824585\n",
            "[48,  1200] loss: 0.043\n",
            "1.220231294631958\n",
            "[48,  1400] loss: 0.048\n",
            "1.089066743850708\n",
            "[49,   200] loss: 0.037\n",
            "1.1148340702056885\n",
            "[49,   400] loss: 0.039\n",
            "0.9836833477020264\n",
            "[49,   600] loss: 0.041\n",
            "1.2611082792282104\n",
            "[49,   800] loss: 0.041\n",
            "0.8267595767974854\n",
            "[49,  1000] loss: 0.044\n",
            "0.9200544357299805\n",
            "[49,  1200] loss: 0.043\n",
            "0.6657498478889465\n",
            "[49,  1400] loss: 0.044\n",
            "0.7008034586906433\n",
            "[50,   200] loss: 0.035\n",
            "1.0667760372161865\n",
            "[50,   400] loss: 0.037\n",
            "1.0202354192733765\n",
            "[50,   600] loss: 0.038\n",
            "1.0864131450653076\n",
            "[50,   800] loss: 0.041\n",
            "1.1776825189590454\n",
            "[50,  1000] loss: 0.041\n",
            "0.8996300101280212\n",
            "[50,  1200] loss: 0.042\n",
            "1.0254788398742676\n",
            "[50,  1400] loss: 0.045\n",
            "0.7941229343414307\n",
            "Finished Training\n"
          ],
          "name": "stdout"
        }
      ]
    },
    {
      "metadata": {
        "id": "x1Bjw-kS-KVB",
        "colab_type": "code",
        "colab": {
          "base_uri": "https://localhost:8080/",
          "height": 282
        },
        "outputId": "c4c38e6d-7cbe-4421-c32e-e1758a4227df"
      },
      "cell_type": "code",
      "source": [
        "plt.plot(dev_losses)"
      ],
      "execution_count": 57,
      "outputs": [
        {
          "output_type": "execute_result",
          "data": {
            "text/plain": [
              "[<matplotlib.lines.Line2D at 0x7f8b3a126390>]"
            ]
          },
          "metadata": {
            "tags": []
          },
          "execution_count": 57
        },
        {
          "output_type": "display_data",
          "data": {
            "image/png": "[encoded data removed]",
            "text/plain": [
              "<matplotlib.figure.Figure at 0x7f8b50e9d080>"
            ]
          },
          "metadata": {
            "tags": []
          }
        }
      ]
    },
    {
      "metadata": {
        "id": "nl95tGLdxarN",
        "colab_type": "code",
        "colab": {
          "base_uri": "https://localhost:8080/",
          "height": 282
        },
        "outputId": "ed6218e7-9ae7-4084-8512-6b5c1891385b"
      },
      "cell_type": "code",
      "source": [
        "plt.plot(running_losses)"
      ],
      "execution_count": 56,
      "outputs": [
        {
          "output_type": "execute_result",
          "data": {
            "text/plain": [
              "[<matplotlib.lines.Line2D at 0x7f8b5033ada0>]"
            ]
          },
          "metadata": {
            "tags": []
          },
          "execution_count": 56
        },
        {
          "output_type": "display_data",
          "data": {
            "image/png": "[encoded data removed]",
            "text/plain": [
              "<matplotlib.figure.Figure at 0x7f8b50578b38>"
            ]
          },
          "metadata": {
            "tags": []
          }
        }
      ]
    },
    {
      "metadata": {
        "id": "mRdWOV7MFG-u",
        "colab_type": "text"
      },
      "cell_type": "markdown",
      "source": [
        "## 5. Test the network on the test data\n",
        "\n",
        "\n",
        "We have trained the network for 2 passes over the training dataset.\n",
        "But we need to check if the network has learnt anything at all.\n",
        "\n",
        "We will check this by predicting the class label that the neural network\n",
        "outputs, and checking it against the ground-truth. If the prediction is\n",
        "correct, we add the sample to the list of correct predictions.\n",
        "\n",
        "Okay, first step. Let us display an image from the test set to get familiar.\n",
        "\n"
      ]
    },
    {
      "metadata": {
        "id": "VN38q_ISFG-v",
        "colab_type": "code",
        "colab": {}
      },
      "cell_type": "code",
      "source": [
        "dataiter = iter(testloader)\n",
        "images, labels = dataiter.next()\n",
        "\n",
        "images, labels = images.to(device), labels.to(device)\n",
        "\n",
        "# print images\n",
        "imshow(torchvision.utils.make_grid(images.cpu()))\n",
        "print('GroundTruth: ', ' '.join('%5s' % classes[labels[j]] for j in range(4)))"
      ],
      "execution_count": 0,
      "outputs": []
    },
    {
      "metadata": {
        "id": "KH4RKhpEynqV",
        "colab_type": "code",
        "colab": {}
      },
      "cell_type": "code",
      "source": [
        ""
      ],
      "execution_count": 0,
      "outputs": []
    },
    {
      "metadata": {
        "id": "1DxxSr89FG-z",
        "colab_type": "text"
      },
      "cell_type": "markdown",
      "source": [
        "Okay, now let us see what the neural network thinks these examples above are:\n",
        "\n"
      ]
    },
    {
      "metadata": {
        "id": "6k_DM5r2FG-z",
        "colab_type": "code",
        "colab": {}
      },
      "cell_type": "code",
      "source": [
        "outputs = net(images)\n",
        "print(outputs)"
      ],
      "execution_count": 0,
      "outputs": []
    },
    {
      "metadata": {
        "id": "l07DNeUQFG-2",
        "colab_type": "text"
      },
      "cell_type": "markdown",
      "source": [
        "The outputs are logits for the 10 classes.\n",
        "Higher the logits for a class, the more the network\n",
        "thinks that the image is of the particular class.\n",
        "So, let's get the index of the highest logit:\n",
        "\n"
      ]
    },
    {
      "metadata": {
        "id": "BLtF2iSTFG-4",
        "colab_type": "code",
        "colab": {}
      },
      "cell_type": "code",
      "source": [
        "_, predicted = torch.max(outputs, 1)\n",
        "\n",
        "print('Predicted: ', ' '.join('%5s' % classes[predicted[j]]\n",
        "                              for j in range(4)))"
      ],
      "execution_count": 0,
      "outputs": []
    },
    {
      "metadata": {
        "id": "JjBcCABfFG-7",
        "colab_type": "text"
      },
      "cell_type": "markdown",
      "source": [
        "The results seem pretty good.\n",
        "\n",
        "Let us look at how the network performs on the whole dataset.\n",
        "\n"
      ]
    },
    {
      "metadata": {
        "id": "zwMyAeGjFG-9",
        "colab_type": "code",
        "colab": {}
      },
      "cell_type": "code",
      "source": [
        "correct = 0\n",
        "total = 0\n",
        "with torch.no_grad():\n",
        "    for data in testloader:\n",
        "        images, labels = data\n",
        "        images, labels = images.to(device), labels.to(device)\n",
        "        outputs = net(images)\n",
        "        _, predicted = torch.max(outputs.data, 1)\n",
        "        total += labels.size(0)\n",
        "        correct += (predicted == labels).sum().item()\n",
        "\n",
        "print('Accuracy of the network on the 10000 test images: %d %%' % (\n",
        "    100 * correct / total))"
      ],
      "execution_count": 0,
      "outputs": []
    },
    {
      "metadata": {
        "id": "q81j9FCCFG_B",
        "colab_type": "text"
      },
      "cell_type": "markdown",
      "source": [
        "That looks waaay better than chance, which is 10% accuracy (randomly picking\n",
        "a class out of 10 classes).\n",
        "Seems like the network learnt something.\n",
        "\n",
        "Hmmm, what are the classes that performed well, and the classes that did\n",
        "not perform well:\n",
        "\n"
      ]
    },
    {
      "metadata": {
        "id": "qOq4Yac7FG_D",
        "colab_type": "code",
        "colab": {}
      },
      "cell_type": "code",
      "source": [
        "class_correct = list(0. for i in range(10))\n",
        "class_total = list(0. for i in range(10))\n",
        "with torch.no_grad():\n",
        "    for data in testloader:\n",
        "        images, labels = data\n",
        "        images, labels = images.to(device), labels.to(device)\n",
        "        outputs = net(images)\n",
        "        _, predicted = torch.max(outputs, 1)\n",
        "        c = (predicted == labels).squeeze()\n",
        "        for i in range(4):\n",
        "            label = labels[i]\n",
        "            class_correct[label] += c[i].item()\n",
        "            class_total[label] += 1\n",
        "\n",
        "\n",
        "for i in range(10):\n",
        "    print('Accuracy of %5s : %2d %%' % (\n",
        "        classes[i], 100 * class_correct[i] / class_total[i]))"
      ],
      "execution_count": 0,
      "outputs": []
    },
    {
      "metadata": {
        "id": "a_b0zA1u0Uqk",
        "colab_type": "code",
        "colab": {}
      },
      "cell_type": "code",
      "source": [
        ""
      ],
      "execution_count": 0,
      "outputs": []
    }
  ]
}
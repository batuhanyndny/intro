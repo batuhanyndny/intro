{
  "nbformat": 4,
  "nbformat_minor": 0,
  "metadata": {
    "colab": {
      "name": "classification.ipynb",
      "version": "0.3.2",
      "provenance": []
    },
    "kernelspec": {
      "display_name": "Python 3",
      "language": "python",
      "name": "python3"
    }
  },
  "cells": [
    {
      "metadata": {
        "id": "cV9WCbIGIPMw",
        "colab_type": "text"
      },
      "cell_type": "markdown",
      "source": [
        "# Classification example\n",
        "\n",
        "Original file created by [Data School](http://www.dataschool.io/). For original files and in-depth training, please visit their site."
      ]
    },
    {
      "metadata": {
        "id": "PVKNUo-cIPM1",
        "colab_type": "text"
      },
      "cell_type": "markdown",
      "source": [
        "## Agenda\n",
        "- Introduction to Iris dataset\n",
        "- What is the **K-nearest neighbors** classification model?\n",
        "- What are the four steps for **model training and prediction** in scikit-learn?\n",
        "- How can I apply this pattern to **other machine learning models**?"
      ]
    },
    {
      "metadata": {
        "id": "CJNGTZ4ZIPNO",
        "colab_type": "text"
      },
      "cell_type": "markdown",
      "source": [
        "## Reviewing the iris dataset\n",
        "\n",
        "- 50 samples of 3 different species of iris (150 samples total)\n",
        "- Measurements: sepal length, sepal width, petal length, petal width\n",
        "\n",
        "![Iris](https://github.com/sg2/intro/blob/master/2%20-%20Types%20of%20ML/ipynb/images/03_iris.png?raw=1)\n"
      ]
    },
    {
      "metadata": {
        "id": "Rq6A9XKNIPNR",
        "colab_type": "text"
      },
      "cell_type": "markdown",
      "source": [
        "## Loading the iris dataset into scikit-learn"
      ]
    },
    {
      "metadata": {
        "id": "b_aKsfQnMboj",
        "colab_type": "code",
        "colab": {}
      },
      "cell_type": "code",
      "source": [
        "# import load_iris function from datasets module\n",
        "from sklearn.datasets import load_iris"
      ],
      "execution_count": 0,
      "outputs": []
    },
    {
      "metadata": {
        "id": "S5QjawhjMdO7",
        "colab_type": "code",
        "colab": {}
      },
      "cell_type": "code",
      "source": [
        "# Load iris dataset and its attributes\n",
        "iris = load_iris()"
      ],
      "execution_count": 0,
      "outputs": []
    },
    {
      "metadata": {
        "id": "lMdoijPAMpO4",
        "colab_type": "code",
        "colab": {
          "base_uri": "https://localhost:8080/",
          "height": 2617
        },
        "outputId": "8023eb59-9f24-4e53-c330-717ffeb3085c"
      },
      "cell_type": "code",
      "source": [
        "# print the iris data\n",
        "print(iris.data)"
      ],
      "execution_count": 9,
      "outputs": [
        {
          "output_type": "stream",
          "text": [
            "[[5.1 3.5 1.4 0.2]\n",
            " [4.9 3.  1.4 0.2]\n",
            " [4.7 3.2 1.3 0.2]\n",
            " [4.6 3.1 1.5 0.2]\n",
            " [5.  3.6 1.4 0.2]\n",
            " [5.4 3.9 1.7 0.4]\n",
            " [4.6 3.4 1.4 0.3]\n",
            " [5.  3.4 1.5 0.2]\n",
            " [4.4 2.9 1.4 0.2]\n",
            " [4.9 3.1 1.5 0.1]\n",
            " [5.4 3.7 1.5 0.2]\n",
            " [4.8 3.4 1.6 0.2]\n",
            " [4.8 3.  1.4 0.1]\n",
            " [4.3 3.  1.1 0.1]\n",
            " [5.8 4.  1.2 0.2]\n",
            " [5.7 4.4 1.5 0.4]\n",
            " [5.4 3.9 1.3 0.4]\n",
            " [5.1 3.5 1.4 0.3]\n",
            " [5.7 3.8 1.7 0.3]\n",
            " [5.1 3.8 1.5 0.3]\n",
            " [5.4 3.4 1.7 0.2]\n",
            " [5.1 3.7 1.5 0.4]\n",
            " [4.6 3.6 1.  0.2]\n",
            " [5.1 3.3 1.7 0.5]\n",
            " [4.8 3.4 1.9 0.2]\n",
            " [5.  3.  1.6 0.2]\n",
            " [5.  3.4 1.6 0.4]\n",
            " [5.2 3.5 1.5 0.2]\n",
            " [5.2 3.4 1.4 0.2]\n",
            " [4.7 3.2 1.6 0.2]\n",
            " [4.8 3.1 1.6 0.2]\n",
            " [5.4 3.4 1.5 0.4]\n",
            " [5.2 4.1 1.5 0.1]\n",
            " [5.5 4.2 1.4 0.2]\n",
            " [4.9 3.1 1.5 0.1]\n",
            " [5.  3.2 1.2 0.2]\n",
            " [5.5 3.5 1.3 0.2]\n",
            " [4.9 3.1 1.5 0.1]\n",
            " [4.4 3.  1.3 0.2]\n",
            " [5.1 3.4 1.5 0.2]\n",
            " [5.  3.5 1.3 0.3]\n",
            " [4.5 2.3 1.3 0.3]\n",
            " [4.4 3.2 1.3 0.2]\n",
            " [5.  3.5 1.6 0.6]\n",
            " [5.1 3.8 1.9 0.4]\n",
            " [4.8 3.  1.4 0.3]\n",
            " [5.1 3.8 1.6 0.2]\n",
            " [4.6 3.2 1.4 0.2]\n",
            " [5.3 3.7 1.5 0.2]\n",
            " [5.  3.3 1.4 0.2]\n",
            " [7.  3.2 4.7 1.4]\n",
            " [6.4 3.2 4.5 1.5]\n",
            " [6.9 3.1 4.9 1.5]\n",
            " [5.5 2.3 4.  1.3]\n",
            " [6.5 2.8 4.6 1.5]\n",
            " [5.7 2.8 4.5 1.3]\n",
            " [6.3 3.3 4.7 1.6]\n",
            " [4.9 2.4 3.3 1. ]\n",
            " [6.6 2.9 4.6 1.3]\n",
            " [5.2 2.7 3.9 1.4]\n",
            " [5.  2.  3.5 1. ]\n",
            " [5.9 3.  4.2 1.5]\n",
            " [6.  2.2 4.  1. ]\n",
            " [6.1 2.9 4.7 1.4]\n",
            " [5.6 2.9 3.6 1.3]\n",
            " [6.7 3.1 4.4 1.4]\n",
            " [5.6 3.  4.5 1.5]\n",
            " [5.8 2.7 4.1 1. ]\n",
            " [6.2 2.2 4.5 1.5]\n",
            " [5.6 2.5 3.9 1.1]\n",
            " [5.9 3.2 4.8 1.8]\n",
            " [6.1 2.8 4.  1.3]\n",
            " [6.3 2.5 4.9 1.5]\n",
            " [6.1 2.8 4.7 1.2]\n",
            " [6.4 2.9 4.3 1.3]\n",
            " [6.6 3.  4.4 1.4]\n",
            " [6.8 2.8 4.8 1.4]\n",
            " [6.7 3.  5.  1.7]\n",
            " [6.  2.9 4.5 1.5]\n",
            " [5.7 2.6 3.5 1. ]\n",
            " [5.5 2.4 3.8 1.1]\n",
            " [5.5 2.4 3.7 1. ]\n",
            " [5.8 2.7 3.9 1.2]\n",
            " [6.  2.7 5.1 1.6]\n",
            " [5.4 3.  4.5 1.5]\n",
            " [6.  3.4 4.5 1.6]\n",
            " [6.7 3.1 4.7 1.5]\n",
            " [6.3 2.3 4.4 1.3]\n",
            " [5.6 3.  4.1 1.3]\n",
            " [5.5 2.5 4.  1.3]\n",
            " [5.5 2.6 4.4 1.2]\n",
            " [6.1 3.  4.6 1.4]\n",
            " [5.8 2.6 4.  1.2]\n",
            " [5.  2.3 3.3 1. ]\n",
            " [5.6 2.7 4.2 1.3]\n",
            " [5.7 3.  4.2 1.2]\n",
            " [5.7 2.9 4.2 1.3]\n",
            " [6.2 2.9 4.3 1.3]\n",
            " [5.1 2.5 3.  1.1]\n",
            " [5.7 2.8 4.1 1.3]\n",
            " [6.3 3.3 6.  2.5]\n",
            " [5.8 2.7 5.1 1.9]\n",
            " [7.1 3.  5.9 2.1]\n",
            " [6.3 2.9 5.6 1.8]\n",
            " [6.5 3.  5.8 2.2]\n",
            " [7.6 3.  6.6 2.1]\n",
            " [4.9 2.5 4.5 1.7]\n",
            " [7.3 2.9 6.3 1.8]\n",
            " [6.7 2.5 5.8 1.8]\n",
            " [7.2 3.6 6.1 2.5]\n",
            " [6.5 3.2 5.1 2. ]\n",
            " [6.4 2.7 5.3 1.9]\n",
            " [6.8 3.  5.5 2.1]\n",
            " [5.7 2.5 5.  2. ]\n",
            " [5.8 2.8 5.1 2.4]\n",
            " [6.4 3.2 5.3 2.3]\n",
            " [6.5 3.  5.5 1.8]\n",
            " [7.7 3.8 6.7 2.2]\n",
            " [7.7 2.6 6.9 2.3]\n",
            " [6.  2.2 5.  1.5]\n",
            " [6.9 3.2 5.7 2.3]\n",
            " [5.6 2.8 4.9 2. ]\n",
            " [7.7 2.8 6.7 2. ]\n",
            " [6.3 2.7 4.9 1.8]\n",
            " [6.7 3.3 5.7 2.1]\n",
            " [7.2 3.2 6.  1.8]\n",
            " [6.2 2.8 4.8 1.8]\n",
            " [6.1 3.  4.9 1.8]\n",
            " [6.4 2.8 5.6 2.1]\n",
            " [7.2 3.  5.8 1.6]\n",
            " [7.4 2.8 6.1 1.9]\n",
            " [7.9 3.8 6.4 2. ]\n",
            " [6.4 2.8 5.6 2.2]\n",
            " [6.3 2.8 5.1 1.5]\n",
            " [6.1 2.6 5.6 1.4]\n",
            " [7.7 3.  6.1 2.3]\n",
            " [6.3 3.4 5.6 2.4]\n",
            " [6.4 3.1 5.5 1.8]\n",
            " [6.  3.  4.8 1.8]\n",
            " [6.9 3.1 5.4 2.1]\n",
            " [6.7 3.1 5.6 2.4]\n",
            " [6.9 3.1 5.1 2.3]\n",
            " [5.8 2.7 5.1 1.9]\n",
            " [6.8 3.2 5.9 2.3]\n",
            " [6.7 3.3 5.7 2.5]\n",
            " [6.7 3.  5.2 2.3]\n",
            " [6.3 2.5 5.  1.9]\n",
            " [6.5 3.  5.2 2. ]\n",
            " [6.2 3.4 5.4 2.3]\n",
            " [5.9 3.  5.1 1.8]]\n"
          ],
          "name": "stdout"
        }
      ]
    },
    {
      "metadata": {
        "id": "yzT8BQk4MA_I",
        "colab_type": "code",
        "colab": {
          "base_uri": "https://localhost:8080/",
          "height": 103
        },
        "outputId": "f91a8142-69b7-4f45-bc37-99b6e9df006a"
      },
      "cell_type": "code",
      "source": [
        "# print integers representing the species of each observation\n",
        "print(iris.target)"
      ],
      "execution_count": 11,
      "outputs": [
        {
          "output_type": "stream",
          "text": [
            "[0 0 0 0 0 0 0 0 0 0 0 0 0 0 0 0 0 0 0 0 0 0 0 0 0 0 0 0 0 0 0 0 0 0 0 0 0\n",
            " 0 0 0 0 0 0 0 0 0 0 0 0 0 1 1 1 1 1 1 1 1 1 1 1 1 1 1 1 1 1 1 1 1 1 1 1 1\n",
            " 1 1 1 1 1 1 1 1 1 1 1 1 1 1 1 1 1 1 1 1 1 1 1 1 1 1 2 2 2 2 2 2 2 2 2 2 2\n",
            " 2 2 2 2 2 2 2 2 2 2 2 2 2 2 2 2 2 2 2 2 2 2 2 2 2 2 2 2 2 2 2 2 2 2 2 2 2\n",
            " 2 2]\n"
          ],
          "name": "stdout"
        }
      ]
    },
    {
      "metadata": {
        "id": "Pl0C5KxpMyN5",
        "colab_type": "code",
        "colab": {
          "base_uri": "https://localhost:8080/",
          "height": 34
        },
        "outputId": "c162b6f4-ab21-44cb-a49a-04107759c756"
      },
      "cell_type": "code",
      "source": [
        "# print the encoding scheme for species: 0 = setosa, 1 = versicolor, 2 = virginica\n",
        "print(iris.target_names)"
      ],
      "execution_count": 12,
      "outputs": [
        {
          "output_type": "stream",
          "text": [
            "['setosa' 'versicolor' 'virginica']\n"
          ],
          "name": "stdout"
        }
      ]
    },
    {
      "metadata": {
        "id": "Rzd4alFBIPNg",
        "colab_type": "text"
      },
      "cell_type": "markdown",
      "source": [
        "## K-nearest neighbors (KNN) classification"
      ]
    },
    {
      "metadata": {
        "id": "kcxHxYIGIPNi",
        "colab_type": "text"
      },
      "cell_type": "markdown",
      "source": [
        "1. Pick a value for K.\n",
        "2. Search for the K observations in the training data that are \"nearest\" to the measurements of the unknown iris.\n",
        "3. Use the most popular response value from the K nearest neighbors as the predicted response value for the unknown iris."
      ]
    },
    {
      "metadata": {
        "id": "HgS7qb2wIPNj",
        "colab_type": "text"
      },
      "cell_type": "markdown",
      "source": [
        "### Example training data\n",
        "\n",
        "![Training data](https://github.com/sg2/intro/blob/master/2%20-%20Types%20of%20ML/ipynb/images/04_knn_dataset.png?raw=1)"
      ]
    },
    {
      "metadata": {
        "id": "3vFVTh6VIPNl",
        "colab_type": "text"
      },
      "cell_type": "markdown",
      "source": [
        "### KNN classification map (K=1)\n",
        "\n",
        "![1NN classification map](https://raw.githubusercontent.com/sg2/intro/master/2%20-%20Types%20of%20ML/ipynb/images/04_1nn_map.png)"
      ]
    },
    {
      "metadata": {
        "id": "3QjNS_8MIPNm",
        "colab_type": "text"
      },
      "cell_type": "markdown",
      "source": [
        "### KNN classification map (K=5)\n",
        "\n",
        "![5NN classification map](https://raw.githubusercontent.com/sg2/intro/master/2%20-%20Types%20of%20ML/ipynb/images/04_5nn_map.png)"
      ]
    },
    {
      "metadata": {
        "id": "B8MZAqzfIPNn",
        "colab_type": "text"
      },
      "cell_type": "markdown",
      "source": [
        "*Image Credits: [Data3classes](http://commons.wikimedia.org/wiki/File:Data3classes.png#/media/File:Data3classes.png), [Map1NN](http://commons.wikimedia.org/wiki/File:Map1NN.png#/media/File:Map1NN.png), [Map5NN](http://commons.wikimedia.org/wiki/File:Map5NN.png#/media/File:Map5NN.png) by Agor153. Licensed under CC BY-SA 3.0*"
      ]
    },
    {
      "metadata": {
        "id": "px1olovSIPNo",
        "colab_type": "text"
      },
      "cell_type": "markdown",
      "source": [
        "## Loading the data"
      ]
    },
    {
      "metadata": {
        "id": "MKa6bA2cIPNq",
        "colab_type": "code",
        "colab": {}
      },
      "cell_type": "code",
      "source": [
        "# store feature matrix in \"X\"\n",
        "X = iris.data\n",
        "\n",
        "# store response vector in \"y\"\n",
        "y = iris.target"
      ],
      "execution_count": 0,
      "outputs": []
    },
    {
      "metadata": {
        "id": "2vUS4E30IPNw",
        "colab_type": "code",
        "outputId": "662f16d2-7ff1-48e7-94bc-03a35d9b0540",
        "colab": {
          "base_uri": "https://localhost:8080/",
          "height": 51
        }
      },
      "cell_type": "code",
      "source": [
        "# print the shapes of X and y\n",
        "print(X.shape)\n",
        "print(y.shape)"
      ],
      "execution_count": 14,
      "outputs": [
        {
          "output_type": "stream",
          "text": [
            "(150, 4)\n",
            "(150,)\n"
          ],
          "name": "stdout"
        }
      ]
    },
    {
      "metadata": {
        "id": "IWD-9A4VIPN2",
        "colab_type": "text"
      },
      "cell_type": "markdown",
      "source": [
        "## scikit-learn 4-step modeling pattern"
      ]
    },
    {
      "metadata": {
        "id": "KUSr86GGIPN5",
        "colab_type": "text"
      },
      "cell_type": "markdown",
      "source": [
        "**Step 1:** Import the class you plan to use"
      ]
    },
    {
      "metadata": {
        "id": "e15gtiHfIPN6",
        "colab_type": "code",
        "colab": {}
      },
      "cell_type": "code",
      "source": [
        "from sklearn.neighbors import KNeighborsClassifier"
      ],
      "execution_count": 0,
      "outputs": []
    },
    {
      "metadata": {
        "id": "9n5wO0ZPIPOC",
        "colab_type": "text"
      },
      "cell_type": "markdown",
      "source": [
        "**Step 2:** \"Instantiate\" the \"estimator\"\n",
        "\n",
        "- \"Estimator\" is scikit-learn's term for model\n",
        "- \"Instantiate\" means \"make an instance of\""
      ]
    },
    {
      "metadata": {
        "id": "f_OzZL2NIPOE",
        "colab_type": "code",
        "colab": {}
      },
      "cell_type": "code",
      "source": [
        "knn = KNeighborsClassifier(n_neighbors=1)"
      ],
      "execution_count": 0,
      "outputs": []
    },
    {
      "metadata": {
        "id": "TQ5zFAOFIPOI",
        "colab_type": "text"
      },
      "cell_type": "markdown",
      "source": [
        "- Name of the object does not matter\n",
        "- Can specify tuning parameters (aka \"hyperparameters\") during this step\n",
        "- All parameters not specified are set to their defaults"
      ]
    },
    {
      "metadata": {
        "id": "9jctJV2kIPOJ",
        "colab_type": "code",
        "outputId": "a62b689d-2d6f-479b-80f0-cdca7f1f60ea",
        "colab": {
          "base_uri": "https://localhost:8080/",
          "height": 69
        }
      },
      "cell_type": "code",
      "source": [
        "print(knn)"
      ],
      "execution_count": 17,
      "outputs": [
        {
          "output_type": "stream",
          "text": [
            "KNeighborsClassifier(algorithm='auto', leaf_size=30, metric='minkowski',\n",
            "           metric_params=None, n_jobs=1, n_neighbors=1, p=2,\n",
            "           weights='uniform')\n"
          ],
          "name": "stdout"
        }
      ]
    },
    {
      "metadata": {
        "id": "1fWMe301IPOQ",
        "colab_type": "text"
      },
      "cell_type": "markdown",
      "source": [
        "**Step 3:** Fit the model with data (aka \"model training\")\n",
        "\n",
        "- Model is learning the relationship between X and y\n",
        "- Occurs in-place"
      ]
    },
    {
      "metadata": {
        "id": "5MAudd8-IPOR",
        "colab_type": "code",
        "outputId": "07b9b6de-8af8-4d9e-fb21-00e3c06ea77c",
        "colab": {
          "base_uri": "https://localhost:8080/",
          "height": 69
        }
      },
      "cell_type": "code",
      "source": [
        "knn.fit(X, y)"
      ],
      "execution_count": 18,
      "outputs": [
        {
          "output_type": "execute_result",
          "data": {
            "text/plain": [
              "KNeighborsClassifier(algorithm='auto', leaf_size=30, metric='minkowski',\n",
              "           metric_params=None, n_jobs=1, n_neighbors=1, p=2,\n",
              "           weights='uniform')"
            ]
          },
          "metadata": {
            "tags": []
          },
          "execution_count": 18
        }
      ]
    },
    {
      "metadata": {
        "id": "oqxdeYuTIPOY",
        "colab_type": "text"
      },
      "cell_type": "markdown",
      "source": [
        "**Step 4:** Predict the response for a new observation\n",
        "\n",
        "- New observations are called \"out-of-sample\" data\n",
        "- Uses the information it learned during the model training process"
      ]
    },
    {
      "metadata": {
        "id": "_fE-1_vaIPOb",
        "colab_type": "code",
        "outputId": "5a540d74-f36c-4598-cade-b0c88cb16fa9",
        "colab": {
          "base_uri": "https://localhost:8080/",
          "height": 34
        }
      },
      "cell_type": "code",
      "source": [
        "knn.predict([[3, 5, 4, 2]])"
      ],
      "execution_count": 19,
      "outputs": [
        {
          "output_type": "execute_result",
          "data": {
            "text/plain": [
              "array([2])"
            ]
          },
          "metadata": {
            "tags": []
          },
          "execution_count": 19
        }
      ]
    },
    {
      "metadata": {
        "id": "KA96OJv9IPOi",
        "colab_type": "text"
      },
      "cell_type": "markdown",
      "source": [
        "- Returns a NumPy array\n",
        "- Can predict for multiple observations at once"
      ]
    },
    {
      "metadata": {
        "id": "houZh71BIPOk",
        "colab_type": "code",
        "outputId": "4dd5fc4a-c378-46d9-8fd8-239b10f88847",
        "colab": {
          "base_uri": "https://localhost:8080/",
          "height": 34
        }
      },
      "cell_type": "code",
      "source": [
        "X_new = [[3, 5, 4, 2], [5, 4, 3, 2]]\n",
        "knn.predict(X_new)"
      ],
      "execution_count": 20,
      "outputs": [
        {
          "output_type": "execute_result",
          "data": {
            "text/plain": [
              "array([2, 1])"
            ]
          },
          "metadata": {
            "tags": []
          },
          "execution_count": 20
        }
      ]
    },
    {
      "metadata": {
        "id": "jJV0LBWTIPOp",
        "colab_type": "text"
      },
      "cell_type": "markdown",
      "source": [
        "## Using a different value for K"
      ]
    },
    {
      "metadata": {
        "id": "iGf3CayEIPOs",
        "colab_type": "code",
        "outputId": "319bd352-9be4-4095-cf97-167908cf4f14",
        "colab": {
          "base_uri": "https://localhost:8080/",
          "height": 34
        }
      },
      "cell_type": "code",
      "source": [
        "# instantiate the model (using the value K=5)\n",
        "knn = KNeighborsClassifier(n_neighbors=5)\n",
        "\n",
        "# fit the model with data\n",
        "knn.fit(X, y)\n",
        "\n",
        "# predict the response for new observations\n",
        "knn.predict(X_new)"
      ],
      "execution_count": 21,
      "outputs": [
        {
          "output_type": "execute_result",
          "data": {
            "text/plain": [
              "array([1, 1])"
            ]
          },
          "metadata": {
            "tags": []
          },
          "execution_count": 21
        }
      ]
    },
    {
      "metadata": {
        "id": "HoZX6OhkIPO1",
        "colab_type": "text"
      },
      "cell_type": "markdown",
      "source": [
        "## Using a different classification model"
      ]
    },
    {
      "metadata": {
        "id": "fXG_NifaIPO3",
        "colab_type": "code",
        "outputId": "97d466f0-fb88-400a-c8e7-71e5d9cc4355",
        "colab": {
          "base_uri": "https://localhost:8080/",
          "height": 34
        }
      },
      "cell_type": "code",
      "source": [
        "# import the class\n",
        "from sklearn.linear_model import LogisticRegression\n",
        "\n",
        "# instantiate the model (using the default parameters)\n",
        "logreg = LogisticRegression()\n",
        "\n",
        "# fit the model with data\n",
        "logreg.fit(X, y)\n",
        "\n",
        "# predict the response for new observations\n",
        "logreg.predict(X_new)"
      ],
      "execution_count": 22,
      "outputs": [
        {
          "output_type": "execute_result",
          "data": {
            "text/plain": [
              "array([2, 0])"
            ]
          },
          "metadata": {
            "tags": []
          },
          "execution_count": 22
        }
      ]
    }
  ]
}